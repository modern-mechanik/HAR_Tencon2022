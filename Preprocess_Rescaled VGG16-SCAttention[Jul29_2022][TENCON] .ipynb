{
 "cells": [
  {
   "cell_type": "markdown",
   "metadata": {
    "id": "BmG2fB1-q3P4"
   },
   "source": [
    "**Code References:**\n",
    "\n",
    "[1] Part of the VGG code is taken from https://www.kaggle.com/adi160/cifar-10-keras-transfer-learning/\n",
    "\n",
    "[2] SonoNet-Modified VGG with BNN from https://github.com/baumgach/SonoNet-weights\n",
    "\n"
   ]
  },
  {
   "cell_type": "markdown",
   "metadata": {
    "id": "sCY3xkefq3P-"
   },
   "source": [
    "**Scientific References**:\n",
    "\n",
    "[1] [Attention Bilinear Pooling for Fine-Grained Classification](https://www.mdpi.com/2073-8994/11/8/1033/htm)\n",
    "\n",
    "[2] [Deconvolution Checkerboard Artifacts](https://distill.pub/2016/deconv-checkerboard/)\n",
    "\n"
   ]
  },
  {
   "cell_type": "code",
   "execution_count": null,
   "metadata": {
    "colab": {
     "base_uri": "https://localhost:8080/"
    },
    "executionInfo": {
     "elapsed": 126084,
     "status": "ok",
     "timestamp": 1659332439256,
     "user": {
      "displayName": "Sreejith S",
      "userId": "00535157397244177597"
     },
     "user_tz": -330
    },
    "id": "714lFczSrwg2",
    "outputId": "f76ec8bf-e8d4-4533-b7bb-b9b8dc04d9d1"
   },
   "outputs": [
    {
     "name": "stdout",
     "output_type": "stream",
     "text": [
      "Mounted at /content/drive\n"
     ]
    }
   ],
   "source": [
    "from google.colab import drive\n",
    "drive.mount('/content/drive')"
   ]
  },
  {
   "cell_type": "code",
   "execution_count": null,
   "metadata": {
    "id": "VDA3H3aPu2xf"
   },
   "outputs": [],
   "source": [
    "# dataset_path = '/content/drive/MyDrive/Work\\ Docs/AMMACHI\\ Labs/Cropped/HW_V4_raw_cropped_with_seg_maps.tar'\n",
    "dataset_path = '/content/drive/MyDrive/Handwash-Bot-Thesis/Datasets/Kaggle/Cropped/HW_V4_raw_cropped_with_seg_maps.tar'"
   ]
  },
  {
   "cell_type": "code",
   "execution_count": null,
   "metadata": {
    "id": "2HGT1jcwvEUY"
   },
   "outputs": [],
   "source": [
    "# Handwashing Dataset\n",
    "!tar -xf $dataset_path -C /content/"
   ]
  },
  {
   "cell_type": "code",
   "execution_count": null,
   "metadata": {
    "colab": {
     "base_uri": "https://localhost:8080/"
    },
    "executionInfo": {
     "elapsed": 4864,
     "status": "ok",
     "timestamp": 1659332598576,
     "user": {
      "displayName": "Sreejith S",
      "userId": "00535157397244177597"
     },
     "user_tz": -330
    },
    "id": "576RknPfq3QB",
    "outputId": "a0ac85d1-de4c-4339-e3a1-65d0fa5961d8"
   },
   "outputs": [
    {
     "name": "stdout",
     "output_type": "stream",
     "text": [
      "Looking in indexes: https://pypi.org/simple, https://us-python.pkg.dev/colab-wheels/public/simple/\n",
      "Collecting tf-keras-vis\n",
      "  Downloading tf_keras_vis-0.8.1-py3-none-any.whl (53 kB)\n",
      "\u001b[K     |████████████████████████████████| 53 kB 1.8 MB/s \n",
      "\u001b[?25hRequirement already satisfied: scipy in /usr/local/lib/python3.7/dist-packages (from tf-keras-vis) (1.7.3)\n",
      "Collecting deprecated\n",
      "  Downloading Deprecated-1.2.13-py2.py3-none-any.whl (9.6 kB)\n",
      "Requirement already satisfied: imageio in /usr/local/lib/python3.7/dist-packages (from tf-keras-vis) (2.4.1)\n",
      "Requirement already satisfied: importlib-metadata in /usr/local/lib/python3.7/dist-packages (from tf-keras-vis) (4.12.0)\n",
      "Requirement already satisfied: pillow in /usr/local/lib/python3.7/dist-packages (from tf-keras-vis) (7.1.2)\n",
      "Requirement already satisfied: packaging in /usr/local/lib/python3.7/dist-packages (from tf-keras-vis) (21.3)\n",
      "Requirement already satisfied: wrapt<2,>=1.10 in /usr/local/lib/python3.7/dist-packages (from deprecated->tf-keras-vis) (1.14.1)\n",
      "Requirement already satisfied: numpy in /usr/local/lib/python3.7/dist-packages (from imageio->tf-keras-vis) (1.21.6)\n",
      "Requirement already satisfied: zipp>=0.5 in /usr/local/lib/python3.7/dist-packages (from importlib-metadata->tf-keras-vis) (3.8.1)\n",
      "Requirement already satisfied: typing-extensions>=3.6.4 in /usr/local/lib/python3.7/dist-packages (from importlib-metadata->tf-keras-vis) (4.1.1)\n",
      "Requirement already satisfied: pyparsing!=3.0.5,>=2.0.2 in /usr/local/lib/python3.7/dist-packages (from packaging->tf-keras-vis) (3.0.9)\n",
      "Installing collected packages: deprecated, tf-keras-vis\n",
      "Successfully installed deprecated-1.2.13 tf-keras-vis-0.8.1\n"
     ]
    }
   ],
   "source": [
    "!pip install tf-keras-vis"
   ]
  },
  {
   "cell_type": "code",
   "execution_count": null,
   "metadata": {
    "id": "Nn7Uaz59q3P_"
   },
   "outputs": [],
   "source": [
    "from shutil import copyfile\n",
    "import glob\n",
    "import matplotlib.image as mpimg\n",
    "import seaborn as sns\n",
    "from tensorflow.image import random_contrast, random_brightness\n",
    "from tensorflow.image import adjust_contrast, adjust_brightness\n",
    "from tensorflow.keras.preprocessing.image import load_img, img_to_array\n",
    "import matplotlib.image as mpimg\n",
    "%matplotlib inline"
   ]
  },
  {
   "cell_type": "code",
   "execution_count": null,
   "metadata": {
    "id": "3S8LFddFp-6c"
   },
   "outputs": [],
   "source": [
    "# Models, layers and Datagens\n",
    "import tensorflow as tf\n",
    "#from tensorflow.keras.applications.resnet50 import ResNet50, preprocess_input\n",
    "from tensorflow.keras.models import Sequential, Model\n",
    "from tensorflow.keras import layers\n",
    "from tensorflow.keras.layers import Dense, Flatten, Conv2D\n",
    "from tensorflow.keras.layers import GlobalAveragePooling2D, Dropout, Input\n",
    "from tensorflow.keras.layers import BatchNormalization, LocallyConnected2D\n",
    "from tensorflow.keras.layers import Lambda, multiply\n",
    "from tensorflow.keras.preprocessing.image import ImageDataGenerator\n",
    "from tensorflow.keras.models import load_model\n",
    "from tensorflow.keras.callbacks import Callback\n",
    "from keras.layers import Lambda, Activation,Input, Multiply,BatchNormalization, Activation, Reshape, MaxPooling2D, concatenate, UpSampling2D, Dropout,Concatenate,Dense, GlobalAveragePooling2D, GlobalMaxPool2D\n",
    "\n",
    "# Image Processing\n",
    "import cv2\n",
    "import numpy as np\n",
    "from tensorflow.image import random_contrast, random_brightness\n",
    "from tensorflow.image import adjust_contrast, adjust_brightness\n",
    "from tensorflow.keras.preprocessing.image import load_img, img_to_array\n",
    "import matplotlib.image as mpimg\n",
    "\n",
    "# Visualization \n",
    "import pandas as pd\n",
    "from matplotlib import pyplot as plt\n",
    "from tf_keras_vis.utils import num_of_gpus\n",
    "from tf_keras_vis.saliency import Saliency\n",
    "from tf_keras_vis.utils import normalize, standardize\n",
    "from tensorflow.keras import backend as K\n",
    "\n",
    "# Evaluation\n",
    "from sklearn.model_selection import train_test_split\n",
    "from sklearn.metrics import confusion_matrix, ConfusionMatrixDisplay\n",
    "from sklearn.metrics import accuracy_score\n",
    "from sklearn.metrics import f1_score\n",
    "\n",
    "\n",
    "# Misc\n",
    "from collections import deque\n",
    "import pickle\n",
    "import os\n",
    "import random\n",
    "from math import ceil\n",
    "from pathlib import Path\n",
    "import shutil"
   ]
  },
  {
   "cell_type": "code",
   "execution_count": null,
   "metadata": {
    "id": "xpZCF_a0q3QB"
   },
   "outputs": [],
   "source": [
    "from tensorflow.keras import Sequential\n",
    "'Importing pretrained models'\n",
    "from tensorflow.keras.applications import VGG16, VGG19\n",
    "from tensorflow.keras.applications.vgg16 import preprocess_input\n",
    "from tensorflow.keras.optimizers import SGD, Adam\n",
    "from tensorflow.keras.callbacks import ReduceLROnPlateau, EarlyStopping, ModelCheckpoint\n",
    "\n",
    "'Importing the final layers that will be added on top of the base model'\n",
    "from tensorflow.keras.layers import Input, Flatten, Dense, multiply, BatchNormalization, Lambda, Activation, Dropout, Conv2D, MaxPooling2D, GlobalAveragePooling2D, GlobalMaxPooling2D\n",
    "\n",
    "from tensorflow.keras.models import Model\n",
    "\n",
    "'Datagenerator to augment images'\n",
    "from tensorflow.keras.preprocessing.image import ImageDataGenerator\n",
    "\n",
    "'Import to_categorical for one hot encoding the labels'\n",
    "from tensorflow.keras.utils import to_categorical\n",
    "\n"
   ]
  },
  {
   "cell_type": "code",
   "execution_count": null,
   "metadata": {
    "colab": {
     "base_uri": "https://localhost:8080/"
    },
    "executionInfo": {
     "elapsed": 4243,
     "status": "ok",
     "timestamp": 1659332607035,
     "user": {
      "displayName": "Sreejith S",
      "userId": "00535157397244177597"
     },
     "user_tz": -330
    },
    "id": "kFESykpHHhso",
    "outputId": "d47fd33c-a831-4b74-8eef-cadfada32835"
   },
   "outputs": [
    {
     "name": "stdout",
     "output_type": "stream",
     "text": [
      "2.8.2\n",
      "/device:GPU:0\n",
      "Num GPUs Available:  1\n",
      "GPU 0: Tesla P100-PCIE-16GB (UUID: GPU-29ca78f4-82f0-eea4-1937-5009fe915914)\n"
     ]
    }
   ],
   "source": [
    "%tensorflow_version 2.x\n",
    "print(tf.__version__)\n",
    "print(tf.test.gpu_device_name())\n",
    "print(\"Num GPUs Available: \", len(tf.config.experimental.list_physical_devices('GPU')))\n",
    "!nvidia-smi -L"
   ]
  },
  {
   "cell_type": "code",
   "execution_count": null,
   "metadata": {
    "id": "ImcivjcNyPuy"
   },
   "outputs": [],
   "source": [
    "timg = cv2.imread('/content/HW_V4_raw_cropped_with_seg_maps/samples/Step_1/HandWash_001_A_01_G_01_0005.jpg')"
   ]
  },
  {
   "cell_type": "code",
   "execution_count": null,
   "metadata": {
    "colab": {
     "base_uri": "https://localhost:8080/",
     "height": 269
    },
    "executionInfo": {
     "elapsed": 10,
     "status": "ok",
     "timestamp": 1659332607036,
     "user": {
      "displayName": "Sreejith S",
      "userId": "00535157397244177597"
     },
     "user_tz": -330
    },
    "id": "1u3Fu7Z3yph-",
    "outputId": "290c4e65-7c55-4393-ed75-804b0a6e6864"
   },
   "outputs": [
    {
     "data": {
      "image/png": "[encoded data removed]",
      "text/plain": [
       "<Figure size 432x288 with 1 Axes>"
      ]
     },
     "metadata": {
      "needs_background": "light"
     },
     "output_type": "display_data"
    }
   ],
   "source": [
    "plt.imshow(cv2.cvtColor(timg, cv2.COLOR_BGR2RGB))\n",
    "plt.box(False)"
   ]
  },
  {
   "cell_type": "code",
   "execution_count": null,
   "metadata": {
    "colab": {
     "base_uri": "https://localhost:8080/"
    },
    "executionInfo": {
     "elapsed": 7,
     "status": "ok",
     "timestamp": 1659332607036,
     "user": {
      "displayName": "Sreejith S",
      "userId": "00535157397244177597"
     },
     "user_tz": -330
    },
    "id": "OZguuv5jLg8R",
    "outputId": "f748f9ec-da34-44a8-dfce-935987ebf575"
   },
   "outputs": [
    {
     "data": {
      "text/plain": [
       "(224, 224, 3)"
      ]
     },
     "execution_count": 11,
     "metadata": {},
     "output_type": "execute_result"
    }
   ],
   "source": [
    "np.shape(timg)"
   ]
  },
  {
   "cell_type": "markdown",
   "metadata": {
    "id": "AXET1bWuh1JP"
   },
   "source": [
    "## Utils\n",
    "Run the cell below to load all util functions"
   ]
  },
  {
   "cell_type": "code",
   "execution_count": null,
   "metadata": {
    "id": "x_pZ_6cTu6BI"
   },
   "outputs": [],
   "source": [
    "# Evaluation\n",
    "from sklearn.metrics import confusion_matrix, ConfusionMatrixDisplay\n",
    "from sklearn.metrics import accuracy_score\n",
    "from sklearn.metrics import f1_score\n",
    "from tensorflow.keras.callbacks import Callback\n",
    "import random\n",
    "\n",
    "from tf_keras_vis.utils import num_of_gpus\n",
    "from tf_keras_vis.saliency import Saliency\n",
    "from tf_keras_vis.utils import normalize, standardize\n",
    "from tensorflow.keras import backend as K"
   ]
  },
  {
   "cell_type": "code",
   "execution_count": null,
   "metadata": {
    "id": "3lkTrLMJh39G"
   },
   "outputs": [],
   "source": [
    "#@title utils.py\n",
    "# Changes- May 08, 2020 - \n",
    "#   - Adjust_contrast to prevent saturation\n",
    "#   - preprocess_input_contrast accepts images and batches. Always return batches\n",
    "#   - Normalization per channel to range (0, 1)\n",
    "#\n",
    "# Changes- May 09, 2020 - \n",
    "#   - brightness adjust in preprocess_input_custom\n",
    "#\n",
    "# Changes- May 18, 2020 -\n",
    "#   - Clean up code\n",
    "#   - Fix plotting clipping issues\n",
    "#   - Remove confusion matrix plot option from predictions_on_imgs\n",
    "#   - Add load_image_per_class()\n",
    "#   - Add TerminateOnBaseline class for earlystopping on reaching a specific acc \n",
    "#     or val_acc value \n",
    "#\n",
    "# Changes- May 23, 2020\n",
    "#   - load_image_per_class() convert return images to RGB as preprocess_input expects RGB\n",
    "# Changes- Aug 05, 2020\n",
    "#   - plot_imgen() - Interchange channels in image batch (BGR -> RGB) for plotting.\n",
    "\n",
    "# TODO - Remove redundant operations caused by calling random_contrast and \n",
    "#        random_brightness\n",
    "\n",
    "\n",
    "def get_img_mean(img):\n",
    "    \"\"\"\n",
    "    Returns mean of 3 channels.\n",
    "\n",
    "        Parameters:\n",
    "                img (numpy.array): Image \n",
    "\n",
    "        Returns:\n",
    "                (str): with r, g, b mean\n",
    "    \"\"\"\n",
    "    r, g, b = (np.mean(img[:,:,0]), np.mean(img[:,:,1]), np.mean(img[:,:,2])) \n",
    "    return f\"({r:.2f}, {g:.2f}, {b:.2f})\" \n",
    "\n",
    "\n",
    "def get_img_std(img):\n",
    "    \"\"\"\n",
    "    Return 3 channel S.D\n",
    "\n",
    "        Parameters:\n",
    "                img (numpy.array): Image \n",
    "\n",
    "        Returns:\n",
    "                (str): with r, g and b S.D\n",
    "    \"\"\"\n",
    "    r, g, b = (np.std(img[:,:,0]), np.std(img[:,:,1]), np.std(img[:,:,2]))  \n",
    "    return f\"({r:.2f}, {g:.2f}, {b:.2f})\" \n",
    "\n",
    "\n",
    "def get_img_range(img):\n",
    "    \"\"\"\n",
    "    Return min-max range of the image\n",
    "\n",
    "        Parameters:\n",
    "                img (numpy.array) -: Image \n",
    "\n",
    "        Returns:\n",
    "                (str): with min-max range\n",
    "               \n",
    "    \"\"\"\n",
    "    min, max = (np.min(img), np.max(img))  \n",
    "    return f\"({min:.2f}, {max:.2f})\" \n",
    "\n",
    "\n",
    "def preprocess_input_custom(img_batch, data_format=None):\n",
    "    \"\"\"\n",
    "    Custom preprocess function to do the following\n",
    "        - random contrast\n",
    "        - random brightness\n",
    "        - preprocess_input (keras)\n",
    "\n",
    "        Parameters:\n",
    "                img_batch (numpy.array): numpy.array of shape (batch_size, ht, wd, channels)\n",
    "                data_format (None)     : Optional data format of the image array\n",
    "\n",
    "        Returns:\n",
    "                img_preprocessed (numpy.array): Batch of preprocessed image\n",
    "                                                dtype = np.float32\n",
    "    \"\"\"\n",
    "\n",
    "    if img_batch.ndim == 3:\n",
    "        img_batch = np.expand_dims(img_batch, axis=0)  # Create batch of 1 image\n",
    "        # print(\"img_batch.shape: \", img_batch.shape)\n",
    "    \n",
    "    assert (img_batch.ndim == 4)\n",
    "    \n",
    "     # contrast formula: (x - mean) * factor + mean; [per channel, per image]\n",
    "     # contrast_factor > 1 leads to saturation\n",
    "    img_contrasted = random_contrast(img_batch, 0.25, 1.0)\n",
    "\n",
    "    #TODO: combine random_contrast and random_brightness to prevent redundant \n",
    "    #      conversions within these functions\n",
    "    #random delta <= 0.2 is added to each pixel\n",
    "    #img_bright = random_brightness(img_contrasted, 0.2) \n",
    "\n",
    "    # convert to bgr, zero centered \n",
    "    #img_preprocessed = preprocess_input(img_bright, data_format)\n",
    "\n",
    "    # Normalizing - Loop through batch\n",
    "    # print(\"img_batch.dtype: \", img_batch.dtype)\n",
    "    # norm_batch = []\n",
    "    # norm_range = (0, 1)\n",
    "    # for i, img in enumerate(img_preprocessed):\n",
    "    #     img = cv2.normalize(img, None, \n",
    "    #                         alpha=norm_range[0], beta=norm_range[1],\n",
    "    #                         norm_type = cv2.NORM_MINMAX,\n",
    "    #                         dtype = cv2.CV_32F)\n",
    "    #     norm_batch.append(img)\n",
    "    \n",
    "    # norm_batch = np.asarray(norm_batch)\n",
    "    # print(\"norm_batch.shape: \", norm_batch.shape)\n",
    "    # print(\"norm_batch: \", norm_batch)\n",
    "    # return norm_batch\n",
    "    return img_preprocessed\n",
    "\n",
    "\n",
    "def load_image_per_class(data_dir):\n",
    "    \"\"\"\n",
    "    Returns a numpy.array of an image each from the data_dir\n",
    "\n",
    "        Parameters:\n",
    "            data_dir (str): Path to directory in which the data is stored.\n",
    "        \n",
    "        Returns:\n",
    "            images (numpy.array): Array of n images, where n = len(classes_to_train)\n",
    "    \"\"\"\n",
    "    images = []\n",
    "    for label in CLASS_NAMES:\n",
    "        im_file = random.choice(os.listdir(data_dir + label))\n",
    "        img = cv2.imread(data_dir + label + \"/\" + im_file)  # Todo: Path.join\n",
    "        img = cv2.cvtColor(img, cv2.COLOR_BGR2RGB)\n",
    "        images.append(img)\n",
    "\n",
    "    images = np.array(images)\n",
    "    return images\n",
    "\n",
    "\n",
    "def visualize(images, titles, plot_params=True, cmap=None, suptitle=None,\n",
    "              savefig=True, fname=\"plot\", interpolation=None):\n",
    "    \"\"\"\n",
    "    Plot a batch of images in a row. images and titles should be of equal length.\n",
    "    Image mean, sd and range are also added to plot title if plot_params is set.\n",
    "\n",
    "        Parameters:\n",
    "                images (numpy.array): Array of images\n",
    "                title (list(str))   : List of str with plot titles\n",
    "                plot_params (bool)  : Plot with image mean, s.d and range\n",
    "                savefig (bool)      : Save the figure to file\n",
    "                fname (str)         : Filename to save the figure \n",
    "        \n",
    "        Returns:\n",
    "                None\n",
    "    \"\"\"\n",
    "    assert(len(images) == len(titles))\n",
    "    fig, ax = plt.subplots(1, len(images), figsize=(3*len(images), 3), sharey=True)\n",
    "    fig.tight_layout(pad=3)\n",
    "    # fig.subplots_adjust(hspace=0.3)\n",
    "    if suptitle:\n",
    "        plt.suptitle(suptitle)\n",
    "    \n",
    "    for i, image in enumerate(images):\n",
    "        plot_title = f\"{titles[i]}\"\n",
    "        if plot_params:\n",
    "            im_mean = get_img_mean(np.array(image))\n",
    "            im_sd = get_img_std(np.array(image))\n",
    "            im_range = get_img_range(np.array(image))\n",
    "            plot_title = f\"{plot_title}\\n m={im_mean}\\n sd={im_sd}\\n range={im_range}\"\n",
    "        ax[i].set_title(plot_title)    \n",
    "\n",
    "        # since matplotlib.colors.Normalize is not working, converting image \n",
    "        # to (0., 1.) range for plotting\n",
    "        image_norm = cv2.normalize(image, None, \n",
    "                            alpha=0., beta=1.,\n",
    "                            norm_type = cv2.NORM_MINMAX,\n",
    "                            dtype = cv2.CV_32F)\n",
    "        \n",
    "        ax[i].imshow(image_norm, cmap=cmap, interpolation=interpolation)\n",
    "    if savefig:\n",
    "        plt.savefig(f'{fname}.eps', format='eps')\n",
    "    plt.show()\n",
    "\n",
    "\n",
    "def simple_viz(*args, plot_size=3):\n",
    "    images = args\n",
    "    fig, ax = plt.subplots(1, len(images), \n",
    "                           figsize=(plot_size*len(images), plot_size), \n",
    "                           sharey=True)\n",
    "    ax = ax.flatten()\n",
    "    plt.figure()\n",
    "    for i, image in enumerate(images):\n",
    "        ax[i].imshow(np.array(image))\n",
    "    plt.show()\n",
    "\n",
    "\n",
    "def plot_imgen(data_gen, cols=7, savefig=True, file_prefix=\"plot_\"):\n",
    "    \"\"\"\n",
    "    Plot a batch of images from datagenerator\n",
    "\n",
    "        Parameters:\n",
    "                data_gen (DirectoryIterator) : from ImageDataGenerator().flow_from_directory() \n",
    "                cols (int)                   : number of columns\n",
    "                savefig (bool)               : Save figure to file\n",
    "                file_prefix (str)            : Filename to save as. \n",
    "\n",
    "        Returns:\n",
    "                None\n",
    "    \"\"\"\n",
    "\n",
    "    y_true_labels = data_gen.labels\n",
    "    text_labels = list(data_gen.class_indices.keys())   \n",
    "    \n",
    "    n = data_gen.batch_size  # num of images to plot from the batch\n",
    "    rows = ceil(n/cols)\n",
    "\n",
    "    img_batch, labels = next(data_gen) # unpacking images and labels\n",
    "    batch_labels_text = [text_labels[m] for m in np.argmax(labels, axis=1)] \n",
    "    \n",
    "    for r in range(rows):\n",
    "        images = img_batch[r*cols:r*cols+cols]\n",
    "        #images = images[:,:,:,::-1]  #  Interchange (BGR -> RGB)\n",
    "        label =  batch_labels_text[r*cols:r*cols+cols]\n",
    "        visualize(images, label, savefig=savefig, fname=f\"{file_prefix}{r}\")\n",
    "\n",
    "\n",
    "\n",
    "\n",
    "def plot_cf_matrix(model, data_gen, plot_size=(6, 6), \n",
    "                   plot_title=\"Confusion Mat\",\n",
    "                   savefig=True):\n",
    "    \"\"\"\n",
    "    Plot Confusion matrix\n",
    "\n",
    "            Parameters:\n",
    "                    model                        : Trained model for predictions\n",
    "                    data_gen (DirectoryIterator) : from ImageDataGenerator().flow_from_directory()\n",
    "                    plot_size (tuple)            : Plot size (w, h)\n",
    "                    plot_title (str)             : \n",
    "\n",
    "            Returns:\n",
    "                    None\n",
    "\n",
    "    \"\"\"\n",
    "    \n",
    "    fig, ax = plt.subplots(figsize=plot_size)\n",
    "\n",
    "    y_true_labels = data_gen.labels\n",
    "    text_labels = list(data_gen.class_indices.keys())\n",
    "\n",
    "    y_pred = model.predict(data_gen)\n",
    "    y_pred_labels = np.argmax(y_pred, axis=1)\n",
    "    \n",
    "    cm = confusion_matrix(y_true=y_true_labels, y_pred=y_pred_labels, normalize='true')\n",
    "    disp = ConfusionMatrixDisplay(confusion_matrix=cm,\n",
    "                                display_labels=text_labels,)\n",
    "\n",
    "    disp = disp.plot(include_values=True, cmap='GnBu', \n",
    "                     xticks_rotation='vertical',\n",
    "                     values_format='.2f', ax=ax)\n",
    "    \n",
    "    fname = plot_title\n",
    "    acc = f\"{accuracy_score(y_true_labels, y_pred_labels):.2f}\"\n",
    "    f1_macro = f1_score(y_true_labels, y_pred_labels, average='macro')\n",
    "    f1_micro = f1_score(y_true_labels, y_pred_labels, average='micro')\n",
    "    plot_title = f\"{plot_title} \\n f1-macro = {f1_macro:.2f}, f1-micro = {f1_micro:.2f}\"\n",
    "    plt.title(plot_title, fontdict={'fontsize':12})\n",
    "    if savefig:\n",
    "        plt.savefig(f'{fname}_acc_{acc}.eps', format='eps')\n",
    "    plt.show()\n",
    "\n",
    "\n",
    "def predictions_on_imgs(model, data_dir, num_samples=4, plot_title=None,\n",
    "                        savefig=True, file_prefix=\"prediction_\"):\n",
    "    \"\"\"\n",
    "    Run predictions on num_samples images from class_dir w/o imagegenerator and\n",
    "    plot confusion matrx and the images\n",
    "    \n",
    "        Parameters:\n",
    "                model               : Trained model for predictions\n",
    "                data_dir (str)      : Path to image class\n",
    "                num_samples (int)   : Number of samples\n",
    "                plot_title (str)    :\n",
    "                plot_samples (bool) : Should sample images be plotted\n",
    "            \n",
    "        Returns:\n",
    "                None\n",
    "    \"\"\"\n",
    "    true_labels = []\n",
    "    pred_labels = []\n",
    "\n",
    "    true_labels = classes_to_train\n",
    "\n",
    "    for i in range(num_samples):\n",
    "        # for j, label in enumerate(classes_to_train):\n",
    "        img_batch = load_image_per_class(data_dir)\n",
    "        img_preprocessed = preprocess_function(img_batch)\n",
    "        predictions = model.predict(img_preprocessed).argmax(axis=1)\n",
    "        pred_labels = [classes_to_train[c] for c in predictions]\n",
    "\n",
    "        titles = [f\"true={true_label}, pred={pred_label}\" \n",
    "                  for true_label, pred_label in zip(true_labels, pred_labels)] \n",
    "\n",
    "        visualize(img_batch, titles, plot_params=False, suptitle=plot_title,\n",
    "                  savefig=savefig, fname=f\"{file_prefix}{i}_\")\n",
    "\n",
    "\n",
    "class TerminateOnBaseline(Callback):\n",
    "    \"\"\"\n",
    "    Callback that terminates training when either acc or val_acc reaches a \n",
    "    specified baseline\n",
    "    \"\"\"\n",
    "    def __init__(self, monitor='accuracy', baseline=0.9):\n",
    "        super(TerminateOnBaseline, self).__init__()\n",
    "        self.monitor = monitor\n",
    "        self.baseline = baseline\n",
    "\n",
    "    def on_epoch_end(self, epoch, logs=None):\n",
    "        logs = logs or {}\n",
    "        acc = logs.get(self.monitor)\n",
    "        if acc is not None:\n",
    "            if acc >= self.baseline:\n",
    "                print('Epoch %d: Reached baseline, terminating training' % (epoch))\n",
    "                self.model.stop_training = True\n"
   ]
  },
  {
   "cell_type": "code",
   "execution_count": null,
   "metadata": {
    "cellView": "form",
    "id": "HpN56WqqIgJq"
   },
   "outputs": [],
   "source": [
    "#@title Data prep utils\n",
    "\n",
    "def add_noise(image, mask, noise_type=\"gauss\", noise_mean=120, noise_sigma=10,\n",
    "              plot=False):            \n",
    "    \"\"\"\n",
    "    Takes an image and mask as input and returns noise-added masked image\n",
    "    \n",
    "        Parameters:\n",
    "                img (numpy.ndarray)  : dtype = np.uint8\n",
    "                mask (numpy.ndarray) : Segmentaion map, dtype = np.uint8\n",
    "    \"\"\"\n",
    "    # Create Gaussian Noise\n",
    "    if noise_type == \"gauss\":\n",
    "        mean = (noise_mean, noise_mean, noise_mean)\n",
    "        sigma = (noise_sigma, noise_sigma, noise_sigma)   \n",
    "        noise_img = np.zeros(image.shape, np.uint8)\n",
    "        cv2.randn(noise_img, mean, sigma)\n",
    "    elif noise_type == \"uniform\":\n",
    "        noise_img = np.zeros(image.shape, np.uint8)\n",
    "        cv2.randu(noise_img, (0, 0, 0), (255, 255, 255))\n",
    "    else:\n",
    "        raise ValueError(\"Unsupported noise_type: noise_type should be 'gauss' or 'uniform'\")\n",
    "\n",
    "\n",
    "    # Create inverted mask \n",
    "    # cv2.threshold is faster than element-wise subtraction\n",
    "    # set threshold = 127 and use THRESH_BINARY_INV to invert the mask\n",
    "    ret, bin_mask = cv2.threshold(mask, 127, 255, cv2.THRESH_BINARY_INV)\n",
    "    # bin_mask = 255 - mask  # Slower\n",
    "\n",
    "    noise = cv2.bitwise_and(noise_img, noise_img, mask=bin_mask)\n",
    "    if plot:\n",
    "        simple_viz(image, mask, bin_mask, noise_img, noise, cv2.add(image, noise))\n",
    "    return cv2.add(image, noise)\n",
    "\n"
   ]
  },
  {
   "cell_type": "markdown",
   "metadata": {
    "id": "ic__xVo9hwTu"
   },
   "source": [
    "## Initialize Variables"
   ]
  },
  {
   "cell_type": "code",
   "execution_count": null,
   "metadata": {
    "id": "FHI8d5rQq3QC"
   },
   "outputs": [],
   "source": [
    "# Global Constants\n",
    "BATCH_SIZE = 128\n",
    "EARLY_STOP_PATIENCE = 5\n",
    "EPOCHS = 10\n",
    "LEARN_RATE = 0.001\n",
    "NROW = 224\n",
    "NCOL = 224\n",
    "NCH = 3\n",
    "NCLASS = 6\n",
    "VALRATIO = 0.1737 # Train to Validation \n",
    "\n",
    "MAXINT = 255\n",
    "MININT = 0\n",
    "\n",
    "CLASS_NAMES = [\"Step_1\", \"Step_2\",  \"Step_3\",  \"Step_4\",  \n",
    "                    \"Step_5\" , \"Step_6\"]\n",
    "\n",
    "NORMS = np.array([0.4914, 0.4822, 0.4465])\n",
    "STDS = np.array([0.2023, 0.1994, 0.2010])\n",
    "\n",
    "#norms = np.array([0.485, 0.456, 0.406]) \n",
    "#stds = np.array([0.229, 0.224, 0.225])\n",
    "\n",
    "RANDOM_SEED = 1900\n"
   ]
  },
  {
   "cell_type": "code",
   "execution_count": null,
   "metadata": {
    "id": "SfxX1FEANliS"
   },
   "outputs": [],
   "source": [
    "all_envs = [\"*G_01*\", \"*G_02*\", \"*G_03*\", \"*G_04*\", \"*G_05*\"]\n",
    "TRAIN_ENVS = [\"*G_01*\", \"*G_02*\", \"*G_03*\", \"*G_05*\"]\n",
    "TEST_ENVS = [\"*G_04*\"]\n",
    "\n",
    "\n",
    "train_dir = '/content/train/' \n",
    "#val_dir = '/content/val/' \n",
    "test_dir = '/content/test/'"
   ]
  },
  {
   "cell_type": "code",
   "execution_count": null,
   "metadata": {
    "id": "4AdGyNEWk9s4"
   },
   "outputs": [],
   "source": [
    "os.mkdir(train_dir)\n",
    "os.mkdir(test_dir)\n",
    "for l in CLASS_NAMES:\n",
    "  os.mkdir(train_dir+'/'+l)\n",
    "  os.mkdir(test_dir+'/'+l)"
   ]
  },
  {
   "cell_type": "code",
   "execution_count": null,
   "metadata": {
    "id": "2A0WFeD3PTVV"
   },
   "outputs": [],
   "source": [
    "dirpath = \"/content/HW_V4_raw_cropped_with_seg_maps/samples/\"\n",
    "\n",
    "for classlabels in CLASS_NAMES:\n",
    "  fnames = []\n",
    "  testfnames = []\n",
    "  trainfnames = []\n",
    "  # Extract entire file names in each class\n",
    "  fnames.extend(os.listdir(dirpath+classlabels+'/'))\n",
    "  # Extract entire test file names in each class\n",
    "  testfnames.extend(list(\n",
    "      os.path.basename(x) \n",
    "      for x in glob.glob(list(dirpath+classlabels+'/'+t for t in TEST_ENVS)[0])\n",
    "      )\n",
    "  )\n",
    "  # Extract entire train file names in each class\n",
    "  trainfnames = set(fnames)^set(testfnames)\n",
    "\n",
    "  for name in trainfnames:\n",
    "    copyfile(dirpath+classlabels+'/'+name, train_dir+classlabels+'/'+name)\n",
    "\n",
    "  for name in testfnames:\n",
    "    copyfile(dirpath+classlabels+'/'+name, test_dir+classlabels+'/'+name)\n"
   ]
  },
  {
   "cell_type": "code",
   "execution_count": null,
   "metadata": {
    "id": "u9M1WHarv9TH"
   },
   "outputs": [],
   "source": [
    "def preprocess_norm(img):\n",
    "  img = img/MAXINT\n",
    "  #img = img - norms\n",
    "  #img = img/stds\n",
    "  return img\n",
    "\n",
    "\n",
    "#normalize = NormalizeByChannelMeanStd(\n",
    "#    mean=[0.485, 0.456, 0.406], std=[0.229, 0.224, 0.225])"
   ]
  },
  {
   "cell_type": "code",
   "execution_count": null,
   "metadata": {
    "id": "k4TOzCZT4n68"
   },
   "outputs": [],
   "source": [
    "image_datagen = ImageDataGenerator(rescale = 1/MAXINT,\n",
    "                                   preprocessing_function=preprocess_input,\n",
    "                                   rotation_range=10,\n",
    "                                   width_shift_range=0.1, \n",
    "                                   height_shift_range=0.1,\n",
    "                                   zoom_range=0.1,\n",
    "                                   brightness_range= [0.7,1.3],\n",
    "                                   validation_split=VALRATIO)"
   ]
  },
  {
   "cell_type": "code",
   "execution_count": null,
   "metadata": {
    "colab": {
     "base_uri": "https://localhost:8080/"
    },
    "executionInfo": {
     "elapsed": 1883,
     "status": "ok",
     "timestamp": 1659332669044,
     "user": {
      "displayName": "Sreejith S",
      "userId": "00535157397244177597"
     },
     "user_tz": -330
    },
    "id": "BdOqSrOv32nv",
    "outputId": "81a44d47-c029-4597-fb25-25c58fd94a6f"
   },
   "outputs": [
    {
     "name": "stdout",
     "output_type": "stream",
     "text": [
      "Found 72357 images belonging to 6 classes.\n"
     ]
    }
   ],
   "source": [
    "train_gen = image_datagen.flow_from_directory(batch_size=BATCH_SIZE,\n",
    "                                             directory=train_dir,\n",
    "                                             shuffle=True,\n",
    "                                             target_size=(NROW, NCOL),\n",
    "                                             class_mode=\"categorical\",\n",
    "                                             classes=CLASS_NAMES,\n",
    "                                             subset='training')"
   ]
  },
  {
   "cell_type": "code",
   "execution_count": null,
   "metadata": {
    "colab": {
     "base_uri": "https://localhost:8080/"
    },
    "executionInfo": {
     "elapsed": 14,
     "status": "ok",
     "timestamp": 1659332669044,
     "user": {
      "displayName": "Sreejith S",
      "userId": "00535157397244177597"
     },
     "user_tz": -330
    },
    "id": "AJPg2KAR66i5",
    "outputId": "97dc2825-8a37-4c7a-fa10-d92a6942c68d"
   },
   "outputs": [
    {
     "name": "stdout",
     "output_type": "stream",
     "text": [
      "Found 15208 images belonging to 6 classes.\n"
     ]
    }
   ],
   "source": [
    "val_gen = image_datagen.flow_from_directory(batch_size=BATCH_SIZE,\n",
    "                                             directory=train_dir,\n",
    "                                             shuffle=False,\n",
    "                                             target_size=(NROW, NCOL),\n",
    "                                             class_mode=\"categorical\",\n",
    "                                             classes=CLASS_NAMES,\n",
    "                                             subset='validation')"
   ]
  },
  {
   "cell_type": "code",
   "execution_count": null,
   "metadata": {
    "id": "AnfsFWPmpWF2"
   },
   "outputs": [],
   "source": [
    "test_image_datagen = ImageDataGenerator(rescale = 1/MAXINT,\n",
    "                                   preprocessing_function=preprocess_input)"
   ]
  },
  {
   "cell_type": "code",
   "execution_count": null,
   "metadata": {
    "colab": {
     "base_uri": "https://localhost:8080/"
    },
    "executionInfo": {
     "elapsed": 733,
     "status": "ok",
     "timestamp": 1659332671096,
     "user": {
      "displayName": "Sreejith S",
      "userId": "00535157397244177597"
     },
     "user_tz": -330
    },
    "id": "69jluUbD6M1b",
    "outputId": "878f4917-757f-45d2-9c69-3d485bf54588"
   },
   "outputs": [
    {
     "name": "stdout",
     "output_type": "stream",
     "text": [
      "Found 11980 images belonging to 6 classes.\n"
     ]
    }
   ],
   "source": [
    " test_gen = test_image_datagen.flow_from_directory(batch_size=BATCH_SIZE,\n",
    "                                              directory=test_dir,\n",
    "                                              shuffle=False,\n",
    "                                              target_size=(NROW, NCOL),\n",
    "                                              class_mode=\"categorical\",\n",
    "                                              classes=CLASS_NAMES,\n",
    "                                              seed=RANDOM_SEED)"
   ]
  },
  {
   "cell_type": "code",
   "execution_count": null,
   "metadata": {
    "colab": {
     "base_uri": "https://localhost:8080/",
     "height": 1000,
     "output_embedded_package_id": "1k7usvLccwWB2lI74br6wc919ojfWt3Y1"
    },
    "executionInfo": {
     "elapsed": 35607,
     "status": "ok",
     "timestamp": 1659332706699,
     "user": {
      "displayName": "Sreejith S",
      "userId": "00535157397244177597"
     },
     "user_tz": -330
    },
    "id": "TBdBZB64HBLY",
    "outputId": "b68fd8ab-f8fb-41fe-b08d-0c0a32c9c5c0"
   },
   "outputs": [
    {
     "data": {
      "text/plain": [
       "Output hidden; open in https://colab.research.google.com to view."
      ]
     },
     "metadata": {},
     "output_type": "display_data"
    }
   ],
   "source": [
    "# Datagen to plot train samples \n",
    "plot_train_gen = image_datagen.flow_from_directory(batch_size=49,\n",
    "                                             directory=train_dir,\n",
    "                                             shuffle=True,\n",
    "                                             target_size=(NROW, NCOL),\n",
    "                                             class_mode=\"categorical\",\n",
    "                                             classes=CLASS_NAMES,\n",
    "                                             subset='training')\n",
    "\n",
    "\n",
    "plot_validation_gen = image_datagen.flow_from_directory(batch_size=49,\n",
    "                                                   directory=train_dir,\n",
    "                                                   shuffle=False,\n",
    "                                                   target_size=(NROW, NCOL),\n",
    "                                                   class_mode=\"categorical\",\n",
    "                                                   classes=CLASS_NAMES,\n",
    "                                                   subset='validation')\n",
    "\n",
    "# Datagen to plot test samples \n",
    "plot_test_gen = test_image_datagen.flow_from_directory(batch_size=49,\n",
    "                                             directory=test_dir,\n",
    "                                             shuffle=False,\n",
    "                                             target_size=(NROW, NCOL),\n",
    "                                             class_mode=\"categorical\",\n",
    "                                             classes=CLASS_NAMES,\n",
    "                                             seed=RANDOM_SEED)\n",
    "\n",
    "plot_imgen(plot_train_gen, cols=7, savefig=False, file_prefix=\"train_img_\")\n",
    "plot_imgen(plot_validation_gen, cols=7, savefig=False, file_prefix=\"train_img_\")\n",
    "plot_imgen(plot_test_gen, cols=7, savefig=False, file_prefix=\"test_img_\")"
   ]
  },
  {
   "cell_type": "code",
   "execution_count": null,
   "metadata": {
    "id": "ze8m6Klfq3QI"
   },
   "outputs": [],
   "source": [
    "#Randomly transform the original images but keeping the original dimensions of the data\n",
    "# train_generator.fit(x_train)\n",
    "# val_generator.fit(x_val)\n",
    "# test_generator.fit(x_test)"
   ]
  },
  {
   "cell_type": "code",
   "execution_count": null,
   "metadata": {
    "id": "Ez2aYpzPq3QI"
   },
   "outputs": [],
   "source": [
    "'''Learning Rate Annealer:Learning rate is modified after a set number of epochs or after a certain condition is met by using the patience parameter.'''\n",
    "\n",
    "lrr = ReduceLROnPlateau(\n",
    "                       monitor = 'val_accuracy', #Metric to be measured\n",
    "                       factor = .01, #Factor by which learning rate will be reduced\n",
    "                       patience = 3,  #No. of epochs after which if there is no improvement in the val_acc, the learning rate is reduced\n",
    "                       min_lr = 1e-5) #The minimum learning rate \n",
    "\n",
    "es = EarlyStopping(monitor = 'val_loss', mode = 'min', verbose = 1, patience = 50, restore_best_weights = True)\n",
    "mc = ModelCheckpoint('best_model.h5', monitor = 'val_loss', mode = 'min', verbose = 1, save_best_only = True)\n",
    "callback_list = [lrr, es, mc]"
   ]
  },
  {
   "cell_type": "code",
   "execution_count": null,
   "metadata": {
    "colab": {
     "base_uri": "https://localhost:8080/"
    },
    "executionInfo": {
     "elapsed": 963,
     "status": "ok",
     "timestamp": 1659332707656,
     "user": {
      "displayName": "Sreejith S",
      "userId": "00535157397244177597"
     },
     "user_tz": -330
    },
    "id": "3G9tHGviq3QJ",
    "outputId": "a68b3ce2-560f-4688-ca36-170f56f67f83"
   },
   "outputs": [
    {
     "name": "stdout",
     "output_type": "stream",
     "text": [
      "Downloading data from https://storage.googleapis.com/tensorflow/keras-applications/vgg16/vgg16_weights_tf_dim_ordering_tf_kernels_notop.h5\n",
      "58892288/58889256 [==============================] - 0s 0us/step\n",
      "58900480/58889256 [==============================] - 0s 0us/step\n",
      "Model: \"vgg16\"\n",
      "_________________________________________________________________\n",
      " Layer (type)                Output Shape              Param #   \n",
      "=================================================================\n",
      " input_1 (InputLayer)        [(None, 224, 224, 3)]     0         \n",
      "                                                                 \n",
      " block1_conv1 (Conv2D)       (None, 224, 224, 64)      1792      \n",
      "                                                                 \n",
      " block1_conv2 (Conv2D)       (None, 224, 224, 64)      36928     \n",
      "                                                                 \n",
      " block1_pool (MaxPooling2D)  (None, 112, 112, 64)      0         \n",
      "                                                                 \n",
      " block2_conv1 (Conv2D)       (None, 112, 112, 128)     73856     \n",
      "                                                                 \n",
      " block2_conv2 (Conv2D)       (None, 112, 112, 128)     147584    \n",
      "                                                                 \n",
      " block2_pool (MaxPooling2D)  (None, 56, 56, 128)       0         \n",
      "                                                                 \n",
      " block3_conv1 (Conv2D)       (None, 56, 56, 256)       295168    \n",
      "                                                                 \n",
      " block3_conv2 (Conv2D)       (None, 56, 56, 256)       590080    \n",
      "                                                                 \n",
      " block3_conv3 (Conv2D)       (None, 56, 56, 256)       590080    \n",
      "                                                                 \n",
      " block3_pool (MaxPooling2D)  (None, 28, 28, 256)       0         \n",
      "                                                                 \n",
      " block4_conv1 (Conv2D)       (None, 28, 28, 512)       1180160   \n",
      "                                                                 \n",
      " block4_conv2 (Conv2D)       (None, 28, 28, 512)       2359808   \n",
      "                                                                 \n",
      " block4_conv3 (Conv2D)       (None, 28, 28, 512)       2359808   \n",
      "                                                                 \n",
      " block4_pool (MaxPooling2D)  (None, 14, 14, 512)       0         \n",
      "                                                                 \n",
      " block5_conv1 (Conv2D)       (None, 14, 14, 512)       2359808   \n",
      "                                                                 \n",
      " block5_conv2 (Conv2D)       (None, 14, 14, 512)       2359808   \n",
      "                                                                 \n",
      " block5_conv3 (Conv2D)       (None, 14, 14, 512)       2359808   \n",
      "                                                                 \n",
      " block5_pool (MaxPooling2D)  (None, 7, 7, 512)         0         \n",
      "                                                                 \n",
      "=================================================================\n",
      "Total params: 14,714,688\n",
      "Trainable params: 14,714,688\n",
      "Non-trainable params: 0\n",
      "_________________________________________________________________\n"
     ]
    }
   ],
   "source": [
    "'ResNet50 with pretrained weights from the imagenet'\n",
    "#base_model_vgg = VGG16(include_top=False, weights='imagenet', input_shape=(NROW, NCOL, NCH), classes = NCLASS)\n",
    "base_model_vgg = VGG16(include_top=False, weights='imagenet', input_shape=(NROW, NCOL, NCH), classes = NCLASS)\n",
    "base_model_vgg.summary()"
   ]
  },
  {
   "cell_type": "markdown",
   "metadata": {
    "id": "u-v6IXz3q3QJ"
   },
   "source": [
    "**Channel Attention Model**\n",
    "![GAP and GMP](https://www.mdpi.com/symmetry/symmetry-11-01033/article_deploy/html/images/symmetry-11-01033-g005.png)"
   ]
  },
  {
   "cell_type": "code",
   "execution_count": null,
   "metadata": {
    "colab": {
     "base_uri": "https://localhost:8080/"
    },
    "executionInfo": {
     "elapsed": 502,
     "status": "ok",
     "timestamp": 1659332912688,
     "user": {
      "displayName": "Sreejith S",
      "userId": "00535157397244177597"
     },
     "user_tz": -330
    },
    "id": "lSyAqw5haR99",
    "outputId": "db01d93e-7fd3-4fa7-954c-1f35303d2ab2"
   },
   "outputs": [
    {
     "name": "stdout",
     "output_type": "stream",
     "text": [
      "Model: \"VGG16-GAP\"\n",
      "_________________________________________________________________\n",
      " Layer (type)                Output Shape              Param #   \n",
      "=================================================================\n",
      " input_1 (InputLayer)        [(None, 224, 224, 3)]     0         \n",
      "                                                                 \n",
      " block1_conv1 (Conv2D)       (None, 224, 224, 64)      1792      \n",
      "                                                                 \n",
      " block1_conv2 (Conv2D)       (None, 224, 224, 64)      36928     \n",
      "                                                                 \n",
      " block1_pool (MaxPooling2D)  (None, 112, 112, 64)      0         \n",
      "                                                                 \n",
      " block2_conv1 (Conv2D)       (None, 112, 112, 128)     73856     \n",
      "                                                                 \n",
      " block2_conv2 (Conv2D)       (None, 112, 112, 128)     147584    \n",
      "                                                                 \n",
      " block2_pool (MaxPooling2D)  (None, 56, 56, 128)       0         \n",
      "                                                                 \n",
      " block3_conv1 (Conv2D)       (None, 56, 56, 256)       295168    \n",
      "                                                                 \n",
      " block3_conv2 (Conv2D)       (None, 56, 56, 256)       590080    \n",
      "                                                                 \n",
      " block3_conv3 (Conv2D)       (None, 56, 56, 256)       590080    \n",
      "                                                                 \n",
      " block3_pool (MaxPooling2D)  (None, 28, 28, 256)       0         \n",
      "                                                                 \n",
      " block4_conv1 (Conv2D)       (None, 28, 28, 512)       1180160   \n",
      "                                                                 \n",
      " block4_conv2 (Conv2D)       (None, 28, 28, 512)       2359808   \n",
      "                                                                 \n",
      " block4_conv3 (Conv2D)       (None, 28, 28, 512)       2359808   \n",
      "                                                                 \n",
      " block4_pool (MaxPooling2D)  (None, 14, 14, 512)       0         \n",
      "                                                                 \n",
      " block5_conv1 (Conv2D)       (None, 14, 14, 512)       2359808   \n",
      "                                                                 \n",
      " block5_conv2 (Conv2D)       (None, 14, 14, 512)       2359808   \n",
      "                                                                 \n",
      " block5_conv3 (Conv2D)       (None, 14, 14, 512)       2359808   \n",
      "                                                                 \n",
      "=================================================================\n",
      "Total params: 14,714,688\n",
      "Trainable params: 14,714,688\n",
      "Non-trainable params: 0\n",
      "_________________________________________________________________\n"
     ]
    }
   ],
   "source": [
    "inlayer = Input(shape=(NROW, NCOL, NCH))\n",
    "\n",
    "layer_name = 'block5_conv3'\n",
    "model_gap = Model(inputs = base_model_vgg.input, outputs = base_model_vgg.get_layer(layer_name).output, name = 'VGG16-GAP')\n",
    "model_gap.summary()"
   ]
  },
  {
   "cell_type": "code",
   "execution_count": null,
   "metadata": {
    "id": "4k2ANeEyq3QJ"
   },
   "outputs": [],
   "source": [
    "model_gap.trainable = True\n",
    "for layer in model_gap.layers[:-9]:\n",
    "  layer.trainable = False\n",
    "# VGG Features\n",
    "vgg_features = model_gap(inlayer)\n",
    "# Channel GAP\n",
    "gap_features = GlobalAveragePooling2D()(vgg_features)\n",
    "# Channel GMP\n",
    "gmp_features = GlobalMaxPooling2D()(vgg_features)\n",
    "gap_mask = multiply([gap_features, vgg_features], name = 'VGG16-Ch-GMP-Mask')\n",
    "gmp_mask = multiply([gmp_features, vgg_features], name = 'VGG16-Ch-GAP-Mask')\n",
    "# Sum GAP and GMP\n",
    "gap_gmp_mask = Lambda(lambda x: x[0]+x[1], name = 'VGG16-Ch-Attention-Mask')([gap_mask, gmp_mask])\n",
    "ch_attention = Dense(gap_gmp_mask.shape[3], activation = 'sigmoid', name = 'VGG16-Ch-Attention-Activation')(gap_gmp_mask)"
   ]
  },
  {
   "cell_type": "code",
   "execution_count": null,
   "metadata": {
    "id": "zU4Or2Uaq3QK"
   },
   "outputs": [],
   "source": [
    "# Spatial Attention Layer\n",
    "# GAP Mask\n",
    "sp_gap_mask = Lambda(lambda x: tf.reduce_mean(x, axis=3, keepdims=True), name='Spatial-GAP-Mask')(ch_attention)\n",
    "#GMP Mask\n",
    "sp_gmp_mask = Lambda(lambda x: tf.reduce_max(x, axis=3, keepdims=True), name='Spatial-GMP-Mask')(ch_attention)\n",
    "\n",
    "# Sum GAP and GMP\n",
    "sp_gap_gmp_mask = Lambda(lambda x: x[0]+x[1], name='Spatial-GAP-GMP-Mask')([sp_gap_mask, sp_gmp_mask])\n",
    "\n",
    "# Spatial Attention Map\n",
    "#2D Convolution 3x3\n",
    "sp_att_map = Conv2D(filters = 512, kernel_size = (1, 1), activation = 'relu')(sp_gap_gmp_mask)\n",
    "sp_att_map = BatchNormalization()(sp_att_map)\n",
    "sp_att_map = Dense(sp_att_map.shape[3], activation = 'sigmoid', name='Spatial-GAP-GMP-Activation')(sp_att_map)\n",
    "\n",
    "# Spatial\n",
    "sp_att_module = multiply([sp_att_map, ch_attention], name = 'Spatial-Attention-Module')\n",
    "sp_att_module = Lambda(lambda x: x[0]+x[1], name = 'Spatial-Channel-Attention-Module')([ch_attention, sp_att_module])"
   ]
  },
  {
   "cell_type": "code",
   "execution_count": null,
   "metadata": {
    "id": "H4DMm-cuq3QK"
   },
   "outputs": [],
   "source": [
    "# Using both channel and spatial attention layer\n",
    "# Dense Layers\n",
    "ch_sp_att_features = Conv2D(sp_att_module.shape[3], kernel_size = (1,1), strides = 2, activation = 'relu')(sp_att_module)\n",
    "ch_sp_att_features = Dropout(0.3)(ch_sp_att_features) #-pranav\n",
    "ch_sp_att_features = BatchNormalization()(ch_sp_att_features)\n",
    "ch_sp_att_features = Flatten()(ch_sp_att_features)\n",
    "ch_sp_att_features = Dense(256, activation=('relu'))(ch_sp_att_features) \n",
    "ch_sp_att_features = Dropout(0.2)(ch_sp_att_features) #-pranav\n",
    "ch_sp_att_features = Dense(128, activation=('relu'))(ch_sp_att_features)\n",
    "ch_sp_att_features = Dense(64, activation=('relu'))(ch_sp_att_features) #-pranav\n",
    "# ch_sp_att_features = Dropout(0.25)(ch_sp_att_features)\n",
    "outlayer = Dense(NCLASS, activation = 'softmax')(ch_sp_att_features)\n",
    "\n",
    "att_model = Model(inputs = [inlayer], outputs = [outlayer], name = 'VGG16-Ch-Sp-Attention')"
   ]
  },
  {
   "cell_type": "code",
   "execution_count": null,
   "metadata": {
    "colab": {
     "base_uri": "https://localhost:8080/"
    },
    "executionInfo": {
     "elapsed": 977,
     "status": "ok",
     "timestamp": 1659332917916,
     "user": {
      "displayName": "Sreejith S",
      "userId": "00535157397244177597"
     },
     "user_tz": -330
    },
    "id": "Cbu1K5Eqq3QK",
    "outputId": "5b01219c-1c57-46b4-c8cc-b9ab89f2d053"
   },
   "outputs": [
    {
     "name": "stdout",
     "output_type": "stream",
     "text": [
      "Model: \"VGG16-Ch-Sp-Attention\"\n",
      "__________________________________________________________________________________________________\n",
      " Layer (type)                   Output Shape         Param #     Connected to                     \n",
      "==================================================================================================\n",
      " input_2 (InputLayer)           [(None, 224, 224, 3  0           []                               \n",
      "                                )]                                                                \n",
      "                                                                                                  \n",
      " VGG16-GAP (Functional)         (None, 14, 14, 512)  14714688    ['input_2[0][0]']                \n",
      "                                                                                                  \n",
      " global_average_pooling2d (Glob  (None, 512)         0           ['VGG16-GAP[0][0]']              \n",
      " alAveragePooling2D)                                                                              \n",
      "                                                                                                  \n",
      " global_max_pooling2d (GlobalMa  (None, 512)         0           ['VGG16-GAP[0][0]']              \n",
      " xPooling2D)                                                                                      \n",
      "                                                                                                  \n",
      " VGG16-Ch-GMP-Mask (Multiply)   (None, 14, 14, 512)  0           ['global_average_pooling2d[0][0]'\n",
      "                                                                 , 'VGG16-GAP[0][0]']             \n",
      "                                                                                                  \n",
      " VGG16-Ch-GAP-Mask (Multiply)   (None, 14, 14, 512)  0           ['global_max_pooling2d[0][0]',   \n",
      "                                                                  'VGG16-GAP[0][0]']              \n",
      "                                                                                                  \n",
      " VGG16-Ch-Attention-Mask (Lambd  (None, 14, 14, 512)  0          ['VGG16-Ch-GMP-Mask[0][0]',      \n",
      " a)                                                               'VGG16-Ch-GAP-Mask[0][0]']      \n",
      "                                                                                                  \n",
      " VGG16-Ch-Attention-Activation   (None, 14, 14, 512)  262656     ['VGG16-Ch-Attention-Mask[0][0]']\n",
      " (Dense)                                                                                          \n",
      "                                                                                                  \n",
      " Spatial-GAP-Mask (Lambda)      (None, 14, 14, 1)    0           ['VGG16-Ch-Attention-Activation[0\n",
      "                                                                 ][0]']                           \n",
      "                                                                                                  \n",
      " Spatial-GMP-Mask (Lambda)      (None, 14, 14, 1)    0           ['VGG16-Ch-Attention-Activation[0\n",
      "                                                                 ][0]']                           \n",
      "                                                                                                  \n",
      " Spatial-GAP-GMP-Mask (Lambda)  (None, 14, 14, 1)    0           ['Spatial-GAP-Mask[0][0]',       \n",
      "                                                                  'Spatial-GMP-Mask[0][0]']       \n",
      "                                                                                                  \n",
      " conv2d (Conv2D)                (None, 14, 14, 512)  1024        ['Spatial-GAP-GMP-Mask[0][0]']   \n",
      "                                                                                                  \n",
      " batch_normalization (BatchNorm  (None, 14, 14, 512)  2048       ['conv2d[0][0]']                 \n",
      " alization)                                                                                       \n",
      "                                                                                                  \n",
      " Spatial-GAP-GMP-Activation (De  (None, 14, 14, 512)  262656     ['batch_normalization[0][0]']    \n",
      " nse)                                                                                             \n",
      "                                                                                                  \n",
      " Spatial-Attention-Module (Mult  (None, 14, 14, 512)  0          ['Spatial-GAP-GMP-Activation[0][0\n",
      " iply)                                                           ]',                              \n",
      "                                                                  'VGG16-Ch-Attention-Activation[0\n",
      "                                                                 ][0]']                           \n",
      "                                                                                                  \n",
      " Spatial-Channel-Attention-Modu  (None, 14, 14, 512)  0          ['VGG16-Ch-Attention-Activation[0\n",
      " le (Lambda)                                                     ][0]',                           \n",
      "                                                                  'Spatial-Attention-Module[0][0]'\n",
      "                                                                 ]                                \n",
      "                                                                                                  \n",
      " conv2d_1 (Conv2D)              (None, 7, 7, 512)    262656      ['Spatial-Channel-Attention-Modul\n",
      "                                                                 e[0][0]']                        \n",
      "                                                                                                  \n",
      " dropout (Dropout)              (None, 7, 7, 512)    0           ['conv2d_1[0][0]']               \n",
      "                                                                                                  \n",
      " batch_normalization_1 (BatchNo  (None, 7, 7, 512)   2048        ['dropout[0][0]']                \n",
      " rmalization)                                                                                     \n",
      "                                                                                                  \n",
      " flatten (Flatten)              (None, 25088)        0           ['batch_normalization_1[0][0]']  \n",
      "                                                                                                  \n",
      " dense (Dense)                  (None, 256)          6422784     ['flatten[0][0]']                \n",
      "                                                                                                  \n",
      " dropout_1 (Dropout)            (None, 256)          0           ['dense[0][0]']                  \n",
      "                                                                                                  \n",
      " dense_1 (Dense)                (None, 128)          32896       ['dropout_1[0][0]']              \n",
      "                                                                                                  \n",
      " dense_2 (Dense)                (None, 64)           8256        ['dense_1[0][0]']                \n",
      "                                                                                                  \n",
      " dense_3 (Dense)                (None, 6)            390         ['dense_2[0][0]']                \n",
      "                                                                                                  \n",
      "==================================================================================================\n",
      "Total params: 21,972,102\n",
      "Trainable params: 20,824,646\n",
      "Non-trainable params: 1,147,456\n",
      "__________________________________________________________________________________________________\n"
     ]
    }
   ],
   "source": [
    "att_model.summary()"
   ]
  },
  {
   "cell_type": "code",
   "execution_count": null,
   "metadata": {
    "id": "BSXdNL4Pq3QL"
   },
   "outputs": [],
   "source": [
    "sgd = SGD(learning_rate = LEARN_RATE, momentum = 0.9, nesterov = False)\n",
    "adam = Adam(learning_rate = LEARN_RATE, beta_1 = 0.9, beta_2 = 0.999, epsilon = None, decay = 0.0, amsgrad = False)\n",
    "\n",
    "att_model.compile(optimizer = sgd, loss = 'categorical_crossentropy', metrics = ['accuracy'])"
   ]
  },
  {
   "cell_type": "code",
   "execution_count": null,
   "metadata": {
    "colab": {
     "base_uri": "https://localhost:8080/"
    },
    "executionInfo": {
     "elapsed": 12175373,
     "status": "ok",
     "timestamp": 1659345098540,
     "user": {
      "displayName": "Sreejith S",
      "userId": "00535157397244177597"
     },
     "user_tz": -330
    },
    "id": "c4KsiSbdq3QL",
    "outputId": "6711af6f-866e-40b1-b01d-9f6e7af2e94b"
   },
   "outputs": [
    {
     "name": "stdout",
     "output_type": "stream",
     "text": [
      "Epoch 1/10\n",
      "565/565 [==============================] - ETA: 0s - loss: 0.2673 - accuracy: 0.8970\n",
      "Epoch 1: val_loss improved from inf to 0.34408, saving model to best_model.h5\n",
      "565/565 [==============================] - 1263s 2s/step - loss: 0.2673 - accuracy: 0.8970 - val_loss: 0.3441 - val_accuracy: 0.8980 - lr: 0.0010\n",
      "Epoch 2/10\n",
      "565/565 [==============================] - ETA: 0s - loss: 0.0117 - accuracy: 0.9965\n",
      "Epoch 2: val_loss improved from 0.34408 to 0.20671, saving model to best_model.h5\n",
      "565/565 [==============================] - 1201s 2s/step - loss: 0.0117 - accuracy: 0.9965 - val_loss: 0.2067 - val_accuracy: 0.9364 - lr: 0.0010\n",
      "Epoch 3/10\n",
      "565/565 [==============================] - ETA: 0s - loss: 0.0047 - accuracy: 0.9987\n",
      "Epoch 3: val_loss improved from 0.20671 to 0.12945, saving model to best_model.h5\n",
      "565/565 [==============================] - 1183s 2s/step - loss: 0.0047 - accuracy: 0.9987 - val_loss: 0.1295 - val_accuracy: 0.9658 - lr: 0.0010\n",
      "Epoch 4/10\n",
      "565/565 [==============================] - ETA: 0s - loss: 0.0025 - accuracy: 0.9992\n",
      "Epoch 4: val_loss did not improve from 0.12945\n",
      "565/565 [==============================] - 1191s 2s/step - loss: 0.0025 - accuracy: 0.9992 - val_loss: 0.3070 - val_accuracy: 0.9309 - lr: 0.0010\n",
      "Epoch 5/10\n",
      "565/565 [==============================] - ETA: 0s - loss: 0.0029 - accuracy: 0.9992\n",
      "Epoch 5: val_loss did not improve from 0.12945\n",
      "565/565 [==============================] - 1182s 2s/step - loss: 0.0029 - accuracy: 0.9992 - val_loss: 0.1599 - val_accuracy: 0.9627 - lr: 0.0010\n",
      "Epoch 6/10\n",
      "565/565 [==============================] - ETA: 0s - loss: 0.0014 - accuracy: 0.9996\n",
      "Epoch 6: val_loss did not improve from 0.12945\n",
      "565/565 [==============================] - 1188s 2s/step - loss: 0.0014 - accuracy: 0.9996 - val_loss: 0.1397 - val_accuracy: 0.9648 - lr: 0.0010\n",
      "Epoch 7/10\n",
      "565/565 [==============================] - ETA: 0s - loss: 0.0011 - accuracy: 0.9997\n",
      "Epoch 7: val_loss did not improve from 0.12945\n",
      "565/565 [==============================] - 1195s 2s/step - loss: 0.0011 - accuracy: 0.9997 - val_loss: 0.1397 - val_accuracy: 0.9655 - lr: 1.0000e-05\n",
      "Epoch 8/10\n",
      "565/565 [==============================] - ETA: 0s - loss: 7.2966e-04 - accuracy: 0.9999\n",
      "Epoch 8: val_loss did not improve from 0.12945\n",
      "565/565 [==============================] - 1178s 2s/step - loss: 7.2966e-04 - accuracy: 0.9999 - val_loss: 0.1429 - val_accuracy: 0.9646 - lr: 1.0000e-05\n",
      "Epoch 9/10\n",
      "565/565 [==============================] - ETA: 0s - loss: 6.8873e-04 - accuracy: 0.9998\n",
      "Epoch 9: val_loss did not improve from 0.12945\n",
      "565/565 [==============================] - 1196s 2s/step - loss: 6.8873e-04 - accuracy: 0.9998 - val_loss: 0.1465 - val_accuracy: 0.9658 - lr: 1.0000e-05\n",
      "Epoch 10/10\n",
      "565/565 [==============================] - ETA: 0s - loss: 5.0309e-04 - accuracy: 0.9999\n",
      "Epoch 10: val_loss did not improve from 0.12945\n",
      "565/565 [==============================] - 1208s 2s/step - loss: 5.0309e-04 - accuracy: 0.9999 - val_loss: 0.1473 - val_accuracy: 0.9657 - lr: 1.0000e-05\n"
     ]
    }
   ],
   "source": [
    "# Channel-Spatial Attention Training History\n",
    "history = att_model.fit(\n",
    "    train_gen,\n",
    "    epochs = EPOCHS,\n",
    "    steps_per_epoch = train_gen.samples//BATCH_SIZE,\n",
    "    validation_data = val_gen,\n",
    "    validation_steps=val_gen.samples//BATCH_SIZE,\n",
    "    callbacks = callback_list,\n",
    "    verbose = 1)"
   ]
  },
  {
   "cell_type": "code",
   "execution_count": null,
   "metadata": {
    "colab": {
     "base_uri": "https://localhost:8080/",
     "height": 283
    },
    "executionInfo": {
     "elapsed": 545,
     "status": "ok",
     "timestamp": 1659345282969,
     "user": {
      "displayName": "Sreejith S",
      "userId": "00535157397244177597"
     },
     "user_tz": -330
    },
    "id": "yVwL4oDTq3QL",
    "outputId": "36e98a64-e0b5-47ea-f93a-262cf89a8e14"
   },
   "outputs": [
    {
     "data": {
      "text/plain": [
       "[<matplotlib.lines.Line2D at 0x7f7b25f22590>]"
      ]
     },
     "execution_count": 35,
     "metadata": {},
     "output_type": "execute_result"
    },
    {
     "data": {
      "image/png": "[encoded data removed]",
      "text/plain": [
       "<Figure size 432x288 with 2 Axes>"
      ]
     },
     "metadata": {
      "needs_background": "light"
     },
     "output_type": "display_data"
    }
   ],
   "source": [
    "f, ax = plt.subplots(2, 1) \n",
    "#Assign the first subplot to graph training loss and validation loss\n",
    "ax[0].plot(att_model.history.history['loss'], color = 'b', label = 'Training Loss')\n",
    "ax[0].plot(att_model.history.history['val_loss'], color = 'r', label = 'Validation Loss')\n",
    "\n",
    "#Next lets plot the training accuracy and validation accuracy\n",
    "ax[1].plot(att_model.history.history['accuracy'], color = 'b', label = 'Training  Accuracy')\n",
    "ax[1].plot(att_model.history.history['val_accuracy'], color = 'r', label = 'Validation Accuracy')"
   ]
  },
  {
   "cell_type": "code",
   "execution_count": null,
   "metadata": {
    "colab": {
     "base_uri": "https://localhost:8080/"
    },
    "executionInfo": {
     "elapsed": 716,
     "status": "ok",
     "timestamp": 1659345284256,
     "user": {
      "displayName": "Sreejith S",
      "userId": "00535157397244177597"
     },
     "user_tz": -330
    },
    "id": "0UBbN3Znagjv",
    "outputId": "e6883781-ab44-4a8e-a1fd-c2164d5a41a9"
   },
   "outputs": [
    {
     "name": "stdout",
     "output_type": "stream",
     "text": [
      "{'loss': [0.26730790734291077, 0.011663527227938175, 0.0047352551482617855, 0.0025050328113138676, 0.0028655221685767174, 0.0014143551234155893, 0.0011130552738904953, 0.0007296601543202996, 0.0006887326599098742, 0.0005030907923355699], 'accuracy': [0.8970081210136414, 0.9964972734451294, 0.9987262487411499, 0.9992246627807617, 0.999183177947998, 0.9995569586753845, 0.9997092485427856, 0.9998615384101868, 0.999833881855011, 0.9998892545700073], 'val_loss': [0.34408363699913025, 0.20670686662197113, 0.12945084273815155, 0.3069903254508972, 0.1598566472530365, 0.13972622156143188, 0.1396646797657013, 0.142852783203125, 0.14654158055782318, 0.1472853124141693], 'val_accuracy': [0.898040235042572, 0.9363744854927063, 0.9658368825912476, 0.9309454560279846, 0.9626588821411133, 0.96484375, 0.965505838394165, 0.9645789265632629, 0.9657706618309021, 0.9657044410705566], 'lr': [0.001, 0.001, 0.001, 0.001, 0.001, 0.001, 1.0000001e-05, 1.0000001e-05, 1.0000001e-05, 1e-05]}\n"
     ]
    }
   ],
   "source": [
    "print(att_model.history.history)"
   ]
  },
  {
   "cell_type": "code",
   "execution_count": null,
   "metadata": {
    "id": "6rM4RZA9sD6h"
   },
   "outputs": [],
   "source": [
    "!mv '/content/best_model.h5' '/content/drive/MyDrive/Handwash-Bot-Thesis/Code/Tencon/Models/Preprocess&Rescaled VGG16-SCAttention[Jul29_2022][INDICON].h5'"
   ]
  },
  {
   "cell_type": "markdown",
   "metadata": {
    "id": "Ia7O7vvSghXa"
   },
   "source": [
    "### Evaluate Code"
   ]
  },
  {
   "cell_type": "code",
   "execution_count": null,
   "metadata": {
    "id": "AUegfZCkhNuG"
   },
   "outputs": [],
   "source": [
    "from tensorflow.keras.models import load_model"
   ]
  },
  {
   "cell_type": "code",
   "execution_count": null,
   "metadata": {
    "id": "LT1sRgejgqva"
   },
   "outputs": [],
   "source": [
    "#load model (optional)\n",
    "att_model = load_model('/content/drive/MyDrive/Handwash-Bot-Thesis/Code/Tencon/Models/Preprocess&Rescaled VGG16-SCAttention[Jul29_2022][INDICON].h5')\n"
   ]
  },
  {
   "cell_type": "code",
   "execution_count": null,
   "metadata": {
    "id": "kQNTZ333k3vL"
   },
   "outputs": [],
   "source": [
    "model=att_model"
   ]
  },
  {
   "cell_type": "code",
   "execution_count": null,
   "metadata": {
    "colab": {
     "base_uri": "https://localhost:8080/"
    },
    "executionInfo": {
     "elapsed": 1733,
     "status": "ok",
     "timestamp": 1659345310514,
     "user": {
      "displayName": "Sreejith S",
      "userId": "00535157397244177597"
     },
     "user_tz": -330
    },
    "id": "8KbpD7j-0tid",
    "outputId": "65317af5-7f78-44bb-a624-26ae9b7e0b26"
   },
   "outputs": [
    {
     "name": "stdout",
     "output_type": "stream",
     "text": [
      "Found 72357 images belonging to 6 classes.\n",
      "Found 15208 images belonging to 6 classes.\n",
      "Found 11980 images belonging to 6 classes.\n"
     ]
    }
   ],
   "source": [
    "train_gen = image_datagen.flow_from_directory(batch_size=BATCH_SIZE,\n",
    "                                             directory=train_dir,\n",
    "                                             shuffle=False,\n",
    "                                             target_size=(NROW, NCOL),\n",
    "                                             class_mode=\"categorical\",\n",
    "                                             classes=CLASS_NAMES,\n",
    "                                             subset='training')\n",
    "\n",
    "val_gen = image_datagen.flow_from_directory(batch_size=BATCH_SIZE,\n",
    "                                             directory=train_dir,\n",
    "                                             shuffle=False,\n",
    "                                             target_size=(NROW, NCOL),\n",
    "                                             class_mode=\"categorical\",\n",
    "                                             classes=CLASS_NAMES,\n",
    "                                             subset='validation')\n",
    "\n",
    "test_gen = test_image_datagen.flow_from_directory(batch_size=BATCH_SIZE,\n",
    "                                              directory=test_dir,\n",
    "                                              shuffle=False,\n",
    "                                              target_size=(NROW, NCOL),\n",
    "                                              class_mode=\"categorical\",\n",
    "                                              classes=CLASS_NAMES,\n",
    "                                              seed=RANDOM_SEED)"
   ]
  },
  {
   "cell_type": "code",
   "execution_count": null,
   "metadata": {
    "colab": {
     "base_uri": "https://localhost:8080/",
     "height": 1000
    },
    "executionInfo": {
     "elapsed": 992178,
     "status": "ok",
     "timestamp": 1659346515313,
     "user": {
      "displayName": "Sreejith S",
      "userId": "00535157397244177597"
     },
     "user_tz": -330
    },
    "id": "QZNNOxf8lAgA",
    "outputId": "bc5736cc-24cd-4f19-99e9-e25a50b7524a"
   },
   "outputs": [
    {
     "data": {
      "image/png": "[encoded data removed]",
      "text/plain": [
       "<Figure size 432x432 with 2 Axes>"
      ]
     },
     "metadata": {
      "needs_background": "light"
     },
     "output_type": "display_data"
    },
    {
     "data": {
      "image/png": "[encoded data removed]",
      "text/plain": [
       "<Figure size 432x432 with 2 Axes>"
      ]
     },
     "metadata": {
      "needs_background": "light"
     },
     "output_type": "display_data"
    },
    {
     "data": {
      "image/png": "[encoded data removed]",
      "text/plain": [
       "<Figure size 432x432 with 2 Axes>"
      ]
     },
     "metadata": {
      "needs_background": "light"
     },
     "output_type": "display_data"
    }
   ],
   "source": [
    "plot_cf_matrix(att_model, train_gen, plot_title=\"Train confustion matrix\", plot_size=(6,6))\n",
    "plot_cf_matrix(att_model, val_gen, plot_title=\"Validation confustion matrix\", plot_size=(6,6))\n",
    "plot_cf_matrix(att_model, test_gen, plot_title=\"Test confustion matrix\", plot_size=(6,6))"
   ]
  },
  {
   "cell_type": "markdown",
   "metadata": {
    "id": "eFchV8-9KFMD"
   },
   "source": [
    "#Custom test data"
   ]
  },
  {
   "cell_type": "code",
   "execution_count": null,
   "metadata": {
    "id": "vx9B4dqHLDIl"
   },
   "outputs": [],
   "source": [
    "!mkdir -p '/content/HandWashDataset/custom'"
   ]
  },
  {
   "cell_type": "code",
   "execution_count": null,
   "metadata": {
    "id": "MsahvL9hgfqI"
   },
   "outputs": [],
   "source": [
    "custom_test_1 = '/content/drive/MyDrive/Handwash-Bot-Thesis/Datasets/Kaggle/custom'\n",
    "custom_test_2 = '/content/drive/MyDrive/Handwash-Bot-Thesis/Datasets/Kaggle/custom_test'\n",
    "custom_test_3 = '/content/drive/MyDrive/Handwash-Bot-Thesis/Datasets/Kaggle/custom_test2' #TODO: rename test dir in drive later"
   ]
  },
  {
   "cell_type": "code",
   "execution_count": null,
   "metadata": {
    "colab": {
     "base_uri": "https://localhost:8080/"
    },
    "executionInfo": {
     "elapsed": 14233,
     "status": "ok",
     "timestamp": 1659346529545,
     "user": {
      "displayName": "Sreejith S",
      "userId": "00535157397244177597"
     },
     "user_tz": -330
    },
    "id": "RAsKKxv9Puvk",
    "outputId": "d554ed33-85e2-4f66-a71c-a59f98953447"
   },
   "outputs": [
    {
     "name": "stdout",
     "output_type": "stream",
     "text": [
      "Found 955 images belonging to 6 classes.\n",
      "Found 1093 images belonging to 6 classes.\n",
      "Found 1298 images belonging to 6 classes.\n"
     ]
    }
   ],
   "source": [
    "custom_test_gen_1 = test_image_datagen.flow_from_directory(batch_size=BATCH_SIZE,\n",
    "                                             directory=custom_test_1,\n",
    "                                             shuffle=False,\n",
    "                                             target_size=(NROW, NCOL),\n",
    "                                             class_mode=\"categorical\",\n",
    "                                             classes=CLASS_NAMES,\n",
    "                                             seed=RANDOM_SEED)\n",
    "custom_test_gen_2 = test_image_datagen.flow_from_directory(batch_size=BATCH_SIZE,\n",
    "                                             directory=custom_test_2,\n",
    "                                             shuffle=False,\n",
    "                                             target_size=(NROW, NCOL),\n",
    "                                             class_mode=\"categorical\",\n",
    "                                             classes=CLASS_NAMES,\n",
    "                                             seed=RANDOM_SEED)\n",
    "custom_test_gen_3 = test_image_datagen.flow_from_directory(batch_size=BATCH_SIZE,\n",
    "                                             directory=custom_test_3,\n",
    "                                             shuffle=False,\n",
    "                                             target_size=(NROW, NCOL),\n",
    "                                             class_mode=\"categorical\",\n",
    "                                             classes=CLASS_NAMES,\n",
    "                                             seed=RANDOM_SEED)"
   ]
  },
  {
   "cell_type": "code",
   "execution_count": null,
   "metadata": {
    "colab": {
     "base_uri": "https://localhost:8080/",
     "height": 1000
    },
    "executionInfo": {
     "elapsed": 1685036,
     "status": "ok",
     "timestamp": 1659348214579,
     "user": {
      "displayName": "Sreejith S",
      "userId": "00535157397244177597"
     },
     "user_tz": -330
    },
    "id": "JXMMkfmulJeu",
    "outputId": "68e15299-db44-4f20-c22c-b88b2c160a5e"
   },
   "outputs": [
    {
     "data": {
      "image/png": "[encoded data removed]",
      "text/plain": [
       "<Figure size 432x432 with 2 Axes>"
      ]
     },
     "metadata": {
      "needs_background": "light"
     },
     "output_type": "display_data"
    },
    {
     "data": {
      "image/png": "[encoded data removed]",
      "text/plain": [
       "<Figure size 432x432 with 2 Axes>"
      ]
     },
     "metadata": {
      "needs_background": "light"
     },
     "output_type": "display_data"
    },
    {
     "data": {
      "image/png": "[encoded data removed]",
      "text/plain": [
       "<Figure size 432x432 with 2 Axes>"
      ]
     },
     "metadata": {
      "needs_background": "light"
     },
     "output_type": "display_data"
    }
   ],
   "source": [
    "plot_cf_matrix(att_model, custom_test_gen_1, plot_title=\"Custom Test1 confustion matrix\", plot_size=(6,6))\n",
    "plot_cf_matrix(att_model, custom_test_gen_2, plot_title=\"Custom Test2 confustion matrix\", plot_size=(6,6))\n",
    "plot_cf_matrix(att_model, custom_test_gen_3, plot_title=\"Custom Test3 confustion matrix\", plot_size=(6,6))"
   ]
  },
  {
   "cell_type": "markdown",
   "metadata": {
    "id": "Sv6DTBWYq3QL"
   },
   "source": [
    "**Attention Visualization**"
   ]
  },
  {
   "cell_type": "markdown",
   "metadata": {
    "id": "WmnrXVA5RJcP",
    "tags": []
   },
   "source": [
    "### Saliency Map"
   ]
  },
  {
   "cell_type": "code",
   "execution_count": null,
   "metadata": {
    "id": "4Y3VnTAoRFMe"
   },
   "outputs": [],
   "source": [
    "#@title Saliency Map Functions\n",
    "\n",
    "\n",
    "\n",
    "subplot_args = { 'nrows': 1, 'ncols': NCLASS, 'figsize': (14, 3),\n",
    "                 'subplot_kw': {'xticks': [], 'yticks': []} }\n",
    "\n",
    "\n",
    "\n",
    "# The `output` variable refer to the output of the model,\n",
    "# so, in this case, `output` shape is `(3, 7)` i.e., (samples, classes).\n",
    "def loss(output):\n",
    "    op =  tuple([output[i][i] for i in range(NCLASS)])\n",
    "    return op\n",
    "\n",
    "def model_modifier(m):\n",
    "    m.layers[-1].activation = tf.keras.activations.linear\n",
    "    return m\n",
    "\n",
    "\n",
    "def saliency_plot(X, fname=\"saliency\"):\n",
    "\n",
    "    # Create Saliency object.\n",
    "    saliency = Saliency(model,\n",
    "                        model_modifier=model_modifier,\n",
    "                        clone=False)\n",
    "\n",
    "    # Generate saliency map with smoothing that reduce noise by adding noise\n",
    "    saliency_map = saliency(loss,\n",
    "                            X,\n",
    "                            smooth_samples=20, # The number of calculating gradients iterations.\n",
    "                            smooth_noise=0.20) # noise spread level.\n",
    "    # saliency_map = normalize(saliency_map)\n",
    "    saliency_map = standardize(saliency_map)\n",
    "    visualize(saliency_map, CLASS_NAMES, plot_params=False, cmap='jet',\n",
    "              savefig=True, fname=fname)\n",
    "    return saliency_map\n",
    "\n"
   ]
  },
  {
   "cell_type": "code",
   "execution_count": null,
   "metadata": {
    "colab": {
     "base_uri": "https://localhost:8080/",
     "height": 1000,
     "output_embedded_package_id": "1CUe7vp_bhH_868plgubZawiT7O_1y4m6"
    },
    "executionInfo": {
     "elapsed": 48822,
     "status": "ok",
     "timestamp": 1659348263400,
     "user": {
      "displayName": "Sreejith S",
      "userId": "00535157397244177597"
     },
     "user_tz": -330
    },
    "id": "u4ssD9MeRKiL",
    "outputId": "7fdcfddb-3bd3-45c0-bfaa-29563d64153f"
   },
   "outputs": [
    {
     "data": {
      "text/plain": [
       "Output hidden; open in https://colab.research.google.com to view."
      ]
     },
     "metadata": {},
     "output_type": "display_data"
    }
   ],
   "source": [
    "# Loading Test data\n",
    "for r in range(10):\n",
    "    images = load_image_per_class('/content/test/')\n",
    "    im_norm = preprocess_input(images)\n",
    "    X = preprocess_norm(im_norm)\n",
    "    X_fix_ch = X[:,:,:,::-1]   # interchange channels for plotting\n",
    "    visualize(X_fix_ch, CLASS_NAMES, plot_params=False, suptitle=\"Salency on test data\", savefig=True, fname=f\"saliency_test_input_{r}\")\n",
    "    saliency_plot(X, fname=f\"saliency_test_output_{r}\")"
   ]
  },
  {
   "cell_type": "code",
   "execution_count": null,
   "metadata": {
    "colab": {
     "base_uri": "https://localhost:8080/",
     "height": 1000,
     "output_embedded_package_id": "1NIv50E8Wf7uGKWFIhcDwALCcwP0dmcvv"
    },
    "executionInfo": {
     "elapsed": 47563,
     "status": "ok",
     "timestamp": 1659348310957,
     "user": {
      "displayName": "Sreejith S",
      "userId": "00535157397244177597"
     },
     "user_tz": -330
    },
    "id": "MTcCKZehRUB8",
    "outputId": "c6d3d585-4941-46db-f990-4a43d8dd0349"
   },
   "outputs": [
    {
     "data": {
      "text/plain": [
       "Output hidden; open in https://colab.research.google.com to view."
      ]
     },
     "metadata": {},
     "output_type": "display_data"
    }
   ],
   "source": [
    "# Loading Train data\n",
    "for r in range(10):\n",
    "    images = load_image_per_class('/content/train/')\n",
    "    im_norm = preprocess_input(images)\n",
    "    X = preprocess_norm(im_norm)\n",
    "    X_fix_ch = X[:,:,:,::-1]   # interchange channels for plotting\n",
    "    visualize(X_fix_ch, CLASS_NAMES, plot_params=False, suptitle=\"Salency on test data\", savefig=True, fname=f\"saliency_test_input_{r}\")\n",
    "    saliency_plot(X, fname=f\"saliency_test_output_{r}\")"
   ]
  },
  {
   "cell_type": "code",
   "execution_count": null,
   "metadata": {
    "colab": {
     "base_uri": "https://localhost:8080/",
     "height": 1000,
     "output_embedded_package_id": "1gYCNI21CHlcJqVJiGyKJmg9g-K7sixti"
    },
    "executionInfo": {
     "elapsed": 47732,
     "status": "ok",
     "timestamp": 1659348358684,
     "user": {
      "displayName": "Sreejith S",
      "userId": "00535157397244177597"
     },
     "user_tz": -330
    },
    "id": "3HFeTHRX7uNZ",
    "outputId": "44d3b1dd-5d79-41f0-edf0-4334f7275e8f"
   },
   "outputs": [
    {
     "data": {
      "text/plain": [
       "Output hidden; open in https://colab.research.google.com to view."
      ]
     },
     "metadata": {},
     "output_type": "display_data"
    }
   ],
   "source": [
    "# Loading Train data\n",
    "for r in range(10):\n",
    "    images = load_image_per_class(custom_test_2+'/')\n",
    "    im_norm = preprocess_input(images)\n",
    "    X = preprocess_norm(im_norm)\n",
    "    X_fix_ch = X[:,:,:,::-1]   # interchange channels for plotting\n",
    "    visualize(X_fix_ch, CLASS_NAMES, plot_params=False, suptitle=\"Salency on test data\", savefig=True, fname=f\"saliency_test_input_{r}\")\n",
    "    saliency_plot(X, fname=f\"saliency_test_output_{r}\")"
   ]
  },
  {
   "cell_type": "code",
   "execution_count": null,
   "metadata": {
    "id": "lQpMxlkxagjz"
   },
   "outputs": [],
   "source": []
  }
 ],
 "metadata": {
  "accelerator": "GPU",
  "colab": {
   "collapsed_sections": [],
   "name": "Preprocess&Rescaled VGG16-SCAttention[Jul29_2022][INDICON] .ipynb",
   "provenance": [
    {
     "file_id": "1A0rBr03n3nwclwneXWcOm0kSaTpwb5JK",
     "timestamp": 1638594883358
    },
    {
     "file_id": "11PcbbvqHZ4i6-rwtYMbeZABNJNjhsdwz",
     "timestamp": 1637920185601
    }
   ]
  },
  "kernelspec": {
   "display_name": "Python 3 (ipykernel)",
   "language": "python",
   "name": "python3"
  },
  "language_info": {
   "codemirror_mode": {
    "name": "ipython",
    "version": 3
   },
   "file_extension": ".py",
   "mimetype": "text/x-python",
   "name": "python",
   "nbconvert_exporter": "python",
   "pygments_lexer": "ipython3",
   "version": "3.10.6"
  }
 },
 "nbformat": 4,
 "nbformat_minor": 1
}
