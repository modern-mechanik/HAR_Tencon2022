{
 "cells": [
  {
   "cell_type": "code",
   "execution_count": 1,
   "metadata": {
    "colab": {
     "base_uri": "https://localhost:8080/"
    },
    "executionInfo": {
     "elapsed": 629,
     "status": "ok",
     "timestamp": 1659086954844,
     "user": {
      "displayName": "Sreejith S",
      "userId": "00535157397244177597"
     },
     "user_tz": -330
    },
    "id": "714lFczSrwg2",
    "outputId": "4dd9968b-b96f-4dd6-9f0d-b93f332feaa5"
   },
   "outputs": [
    {
     "name": "stdout",
     "output_type": "stream",
     "text": [
      "/content\n"
     ]
    }
   ],
   "source": [
    "!pwd"
   ]
  },
  {
   "cell_type": "code",
   "execution_count": 2,
   "metadata": {
    "colab": {
     "base_uri": "https://localhost:8080/"
    },
    "executionInfo": {
     "elapsed": 19544,
     "status": "ok",
     "timestamp": 1659086974382,
     "user": {
      "displayName": "Sreejith S",
      "userId": "00535157397244177597"
     },
     "user_tz": -330
    },
    "id": "c3JF42kGa3Mm",
    "outputId": "c1b2c594-ef06-474b-9b37-e6c715028011"
   },
   "outputs": [
    {
     "name": "stdout",
     "output_type": "stream",
     "text": [
      "Mounted at /content/drive\n"
     ]
    }
   ],
   "source": [
    "from google.colab import drive\n",
    "drive.mount('/content/drive')"
   ]
  },
  {
   "cell_type": "code",
   "execution_count": 3,
   "metadata": {
    "executionInfo": {
     "elapsed": 10,
     "status": "ok",
     "timestamp": 1659086974383,
     "user": {
      "displayName": "Sreejith S",
      "userId": "00535157397244177597"
     },
     "user_tz": -330
    },
    "id": "VDA3H3aPu2xf"
   },
   "outputs": [],
   "source": [
    "# dataset_path = '/content/drive/MyDrive/Work\\ Docs/AMMACHI\\ Labs/Cropped/HW_V4_raw_cropped_with_seg_maps.tar'\n",
    "dataset_path = '/content/drive/MyDrive/Handwash-Bot-Thesis/Datasets/Kaggle/Cropped/HW_V4_raw_cropped_with_seg_maps.tar'"
   ]
  },
  {
   "cell_type": "code",
   "execution_count": 4,
   "metadata": {
    "executionInfo": {
     "elapsed": 36877,
     "status": "ok",
     "timestamp": 1659087011253,
     "user": {
      "displayName": "Sreejith S",
      "userId": "00535157397244177597"
     },
     "user_tz": -330
    },
    "id": "2HGT1jcwvEUY"
   },
   "outputs": [],
   "source": [
    "# Handwashing Dataset\n",
    "!tar -xf $dataset_path -C /content/"
   ]
  },
  {
   "cell_type": "code",
   "execution_count": 5,
   "metadata": {
    "colab": {
     "base_uri": "https://localhost:8080/"
    },
    "executionInfo": {
     "elapsed": 4342,
     "status": "ok",
     "timestamp": 1659087015589,
     "user": {
      "displayName": "Sreejith S",
      "userId": "00535157397244177597"
     },
     "user_tz": -330
    },
    "id": "576RknPfq3QB",
    "outputId": "dbe87bd1-feb2-4bb6-e220-dda1687a5248"
   },
   "outputs": [
    {
     "name": "stdout",
     "output_type": "stream",
     "text": [
      "Looking in indexes: https://pypi.org/simple, https://us-python.pkg.dev/colab-wheels/public/simple/\n",
      "Collecting tf-keras-vis\n",
      "  Downloading tf_keras_vis-0.8.1-py3-none-any.whl (53 kB)\n",
      "\u001b[K     |████████████████████████████████| 53 kB 1.8 MB/s \n",
      "\u001b[?25hCollecting deprecated\n",
      "  Downloading Deprecated-1.2.13-py2.py3-none-any.whl (9.6 kB)\n",
      "Requirement already satisfied: packaging in /usr/local/lib/python3.7/dist-packages (from tf-keras-vis) (21.3)\n",
      "Requirement already satisfied: pillow in /usr/local/lib/python3.7/dist-packages (from tf-keras-vis) (7.1.2)\n",
      "Requirement already satisfied: importlib-metadata in /usr/local/lib/python3.7/dist-packages (from tf-keras-vis) (4.12.0)\n",
      "Requirement already satisfied: scipy in /usr/local/lib/python3.7/dist-packages (from tf-keras-vis) (1.7.3)\n",
      "Requirement already satisfied: imageio in /usr/local/lib/python3.7/dist-packages (from tf-keras-vis) (2.4.1)\n",
      "Requirement already satisfied: wrapt<2,>=1.10 in /usr/local/lib/python3.7/dist-packages (from deprecated->tf-keras-vis) (1.14.1)\n",
      "Requirement already satisfied: numpy in /usr/local/lib/python3.7/dist-packages (from imageio->tf-keras-vis) (1.21.6)\n",
      "Requirement already satisfied: typing-extensions>=3.6.4 in /usr/local/lib/python3.7/dist-packages (from importlib-metadata->tf-keras-vis) (4.1.1)\n",
      "Requirement already satisfied: zipp>=0.5 in /usr/local/lib/python3.7/dist-packages (from importlib-metadata->tf-keras-vis) (3.8.1)\n",
      "Requirement already satisfied: pyparsing!=3.0.5,>=2.0.2 in /usr/local/lib/python3.7/dist-packages (from packaging->tf-keras-vis) (3.0.9)\n",
      "Installing collected packages: deprecated, tf-keras-vis\n",
      "Successfully installed deprecated-1.2.13 tf-keras-vis-0.8.1\n"
     ]
    }
   ],
   "source": [
    "!pip install tf-keras-vis"
   ]
  },
  {
   "cell_type": "code",
   "execution_count": 6,
   "metadata": {
    "executionInfo": {
     "elapsed": 3773,
     "status": "ok",
     "timestamp": 1659087019354,
     "user": {
      "displayName": "Sreejith S",
      "userId": "00535157397244177597"
     },
     "user_tz": -330
    },
    "id": "Nn7Uaz59q3P_"
   },
   "outputs": [],
   "source": [
    "from shutil import copyfile\n",
    "import glob\n",
    "import matplotlib.image as mpimg\n",
    "import seaborn as sns\n",
    "from tensorflow.image import random_contrast, random_brightness\n",
    "from tensorflow.image import adjust_contrast, adjust_brightness\n",
    "from tensorflow.keras.preprocessing.image import load_img, img_to_array\n",
    "import matplotlib.image as mpimg\n",
    "%matplotlib inline"
   ]
  },
  {
   "cell_type": "code",
   "execution_count": 7,
   "metadata": {
    "executionInfo": {
     "elapsed": 607,
     "status": "ok",
     "timestamp": 1659087019956,
     "user": {
      "displayName": "Sreejith S",
      "userId": "00535157397244177597"
     },
     "user_tz": -330
    },
    "id": "3S8LFddFp-6c"
   },
   "outputs": [],
   "source": [
    "# Models, layers and Datagens\n",
    "import tensorflow as tf\n",
    "from tensorflow.keras.applications.resnet50 import ResNet50, preprocess_input\n",
    "from tensorflow.keras.models import Sequential, Model\n",
    "from tensorflow.keras import layers\n",
    "from tensorflow.keras.layers import Dense, Flatten, Conv2D\n",
    "from tensorflow.keras.layers import GlobalAveragePooling2D, Dropout, Input\n",
    "from tensorflow.keras.layers import BatchNormalization, LocallyConnected2D\n",
    "from tensorflow.keras.layers import Lambda, multiply\n",
    "from tensorflow.keras.preprocessing.image import ImageDataGenerator\n",
    "from tensorflow.keras.models import load_model\n",
    "from tensorflow.keras.callbacks import Callback\n",
    "from keras.layers import Lambda, Activation,Input, Multiply,BatchNormalization, Activation, Reshape, MaxPooling2D, concatenate, UpSampling2D, Dropout,Concatenate,Dense, GlobalAveragePooling2D, GlobalMaxPool2D\n",
    "\n",
    "# Image Processing\n",
    "import cv2\n",
    "import numpy as np\n",
    "from tensorflow.image import random_contrast, random_brightness\n",
    "from tensorflow.image import adjust_contrast, adjust_brightness\n",
    "from tensorflow.keras.preprocessing.image import load_img, img_to_array\n",
    "import matplotlib.image as mpimg\n",
    "\n",
    "# Visualization \n",
    "import pandas as pd\n",
    "from matplotlib import pyplot as plt\n",
    "from tf_keras_vis.utils import num_of_gpus\n",
    "from tf_keras_vis.saliency import Saliency\n",
    "from tf_keras_vis.utils import normalize, standardize\n",
    "from tensorflow.keras import backend as K\n",
    "\n",
    "# Evaluation\n",
    "from sklearn.model_selection import train_test_split\n",
    "from sklearn.metrics import confusion_matrix, ConfusionMatrixDisplay\n",
    "from sklearn.metrics import accuracy_score\n",
    "from sklearn.metrics import f1_score\n",
    "\n",
    "\n",
    "# Misc\n",
    "from collections import deque\n",
    "import pickle\n",
    "import os\n",
    "import random\n",
    "from math import ceil\n",
    "from pathlib import Path\n",
    "import shutil"
   ]
  },
  {
   "cell_type": "code",
   "execution_count": 8,
   "metadata": {
    "executionInfo": {
     "elapsed": 6,
     "status": "ok",
     "timestamp": 1659087019957,
     "user": {
      "displayName": "Sreejith S",
      "userId": "00535157397244177597"
     },
     "user_tz": -330
    },
    "id": "xpZCF_a0q3QB"
   },
   "outputs": [],
   "source": [
    "from tensorflow.keras import Sequential\n",
    "'Importing pretrained models'\n",
    "#from tensorflow.keras.applications import VGG16, VGG19\n",
    "#from tensorflow.keras.applications.vgg16 import preprocess_input\n",
    "from tensorflow.keras.optimizers import SGD, Adam\n",
    "from tensorflow.keras.callbacks import ReduceLROnPlateau, EarlyStopping, ModelCheckpoint\n",
    "\n",
    "'Importing the final layers that will be added on top of the base model'\n",
    "from tensorflow.keras.layers import Input, Flatten, Dense, multiply, BatchNormalization, Lambda, Activation, Dropout, Conv2D, MaxPooling2D, GlobalAveragePooling2D, GlobalMaxPooling2D\n",
    "\n",
    "from tensorflow.keras.models import Model\n",
    "\n",
    "'Datagenerator to augment images'\n",
    "from tensorflow.keras.preprocessing.image import ImageDataGenerator\n",
    "\n",
    "'Import to_categorical for one hot encoding the labels'\n",
    "from tensorflow.keras.utils import to_categorical\n",
    "\n"
   ]
  },
  {
   "cell_type": "code",
   "execution_count": 9,
   "metadata": {
    "colab": {
     "base_uri": "https://localhost:8080/"
    },
    "executionInfo": {
     "elapsed": 365,
     "status": "ok",
     "timestamp": 1659087023349,
     "user": {
      "displayName": "Sreejith S",
      "userId": "00535157397244177597"
     },
     "user_tz": -330
    },
    "id": "kFESykpHHhso",
    "outputId": "947e3814-f58e-4ada-ff60-c97a8e874f9e"
   },
   "outputs": [
    {
     "name": "stdout",
     "output_type": "stream",
     "text": [
      "2.8.2\n",
      "/device:GPU:0\n",
      "Num GPUs Available:  1\n",
      "GPU 0: Tesla T4 (UUID: GPU-77e4585e-a8b7-ba59-00ba-088b41150bbf)\n"
     ]
    }
   ],
   "source": [
    "%tensorflow_version 2.x\n",
    "print(tf.__version__)\n",
    "print(tf.test.gpu_device_name())\n",
    "print(\"Num GPUs Available: \", len(tf.config.experimental.list_physical_devices('GPU')))\n",
    "!nvidia-smi -L"
   ]
  },
  {
   "cell_type": "code",
   "execution_count": 10,
   "metadata": {
    "executionInfo": {
     "elapsed": 3,
     "status": "ok",
     "timestamp": 1659087023350,
     "user": {
      "displayName": "Sreejith S",
      "userId": "00535157397244177597"
     },
     "user_tz": -330
    },
    "id": "ImcivjcNyPuy"
   },
   "outputs": [],
   "source": [
    "timg = cv2.imread('/content/HW_V4_raw_cropped_with_seg_maps/samples/Step_1/HandWash_001_A_01_G_01_0005.jpg')"
   ]
  },
  {
   "cell_type": "code",
   "execution_count": 11,
   "metadata": {
    "colab": {
     "base_uri": "https://localhost:8080/",
     "height": 269
    },
    "executionInfo": {
     "elapsed": 848,
     "status": "ok",
     "timestamp": 1659087024195,
     "user": {
      "displayName": "Sreejith S",
      "userId": "00535157397244177597"
     },
     "user_tz": -330
    },
    "id": "1u3Fu7Z3yph-",
    "outputId": "57f5664a-db54-4fd6-8d94-65bba5c19ae1"
   },
   "outputs": [
    {
     "data": {
      "image/png": "[encoded data removed]",
      "text/plain": [
       "<Figure size 432x288 with 1 Axes>"
      ]
     },
     "metadata": {
      "needs_background": "light"
     },
     "output_type": "display_data"
    }
   ],
   "source": [
    "plt.imshow(cv2.cvtColor(timg, cv2.COLOR_BGR2RGB))\n",
    "plt.box(False)"
   ]
  },
  {
   "cell_type": "code",
   "execution_count": 12,
   "metadata": {
    "colab": {
     "base_uri": "https://localhost:8080/"
    },
    "executionInfo": {
     "elapsed": 13,
     "status": "ok",
     "timestamp": 1659087024195,
     "user": {
      "displayName": "Sreejith S",
      "userId": "00535157397244177597"
     },
     "user_tz": -330
    },
    "id": "OZguuv5jLg8R",
    "outputId": "1c625b69-aa3f-4dea-d86f-b81c53d4353f"
   },
   "outputs": [
    {
     "data": {
      "text/plain": [
       "(224, 224, 3)"
      ]
     },
     "execution_count": 12,
     "metadata": {},
     "output_type": "execute_result"
    }
   ],
   "source": [
    "np.shape(timg)"
   ]
  },
  {
   "cell_type": "markdown",
   "metadata": {
    "id": "AXET1bWuh1JP"
   },
   "source": [
    "## Utils\n",
    "Run the cell below to load all util functions"
   ]
  },
  {
   "cell_type": "code",
   "execution_count": 13,
   "metadata": {
    "executionInfo": {
     "elapsed": 7,
     "status": "ok",
     "timestamp": 1659087024195,
     "user": {
      "displayName": "Sreejith S",
      "userId": "00535157397244177597"
     },
     "user_tz": -330
    },
    "id": "x_pZ_6cTu6BI"
   },
   "outputs": [],
   "source": [
    "# Evaluation\n",
    "from sklearn.metrics import confusion_matrix, ConfusionMatrixDisplay\n",
    "from sklearn.metrics import accuracy_score\n",
    "from sklearn.metrics import f1_score\n",
    "from tensorflow.keras.callbacks import Callback\n",
    "import random\n",
    "\n",
    "from tf_keras_vis.utils import num_of_gpus\n",
    "from tf_keras_vis.saliency import Saliency\n",
    "from tf_keras_vis.utils import normalize, standardize\n",
    "from tensorflow.keras import backend as K"
   ]
  },
  {
   "cell_type": "code",
   "execution_count": 14,
   "metadata": {
    "cellView": "form",
    "executionInfo": {
     "elapsed": 8,
     "status": "ok",
     "timestamp": 1659087024196,
     "user": {
      "displayName": "Sreejith S",
      "userId": "00535157397244177597"
     },
     "user_tz": -330
    },
    "id": "3lkTrLMJh39G"
   },
   "outputs": [],
   "source": [
    "#@title utils.py\n",
    "# Changes- May 08, 2020 - \n",
    "#   - Adjust_contrast to prevent saturation\n",
    "#   - preprocess_input_contrast accepts images and batches. Always return batches\n",
    "#   - Normalization per channel to range (0, 1)\n",
    "#\n",
    "# Changes- May 09, 2020 - \n",
    "#   - brightness adjust in preprocess_input_custom\n",
    "#\n",
    "# Changes- May 18, 2020 -\n",
    "#   - Clean up code\n",
    "#   - Fix plotting clipping issues\n",
    "#   - Remove confusion matrix plot option from predictions_on_imgs\n",
    "#   - Add load_image_per_class()\n",
    "#   - Add TerminateOnBaseline class for earlystopping on reaching a specific acc \n",
    "#     or val_acc value \n",
    "#\n",
    "# Changes- May 23, 2020\n",
    "#   - load_image_per_class() convert return images to RGB as preprocess_input expects RGB\n",
    "# Changes- Aug 05, 2020\n",
    "#   - plot_imgen() - Interchange channels in image batch (BGR -> RGB) for plotting.\n",
    "\n",
    "# TODO - Remove redundant operations caused by calling random_contrast and \n",
    "#        random_brightness\n",
    "\n",
    "\n",
    "def get_img_mean(img):\n",
    "    \"\"\"\n",
    "    Returns mean of 3 channels.\n",
    "\n",
    "        Parameters:\n",
    "                img (numpy.array): Image \n",
    "\n",
    "        Returns:\n",
    "                (str): with r, g, b mean\n",
    "    \"\"\"\n",
    "    r, g, b = (np.mean(img[:,:,0]), np.mean(img[:,:,1]), np.mean(img[:,:,2])) \n",
    "    return f\"({r:.2f}, {g:.2f}, {b:.2f})\" \n",
    "\n",
    "\n",
    "def get_img_std(img):\n",
    "    \"\"\"\n",
    "    Return 3 channel S.D\n",
    "\n",
    "        Parameters:\n",
    "                img (numpy.array): Image \n",
    "\n",
    "        Returns:\n",
    "                (str): with r, g and b S.D\n",
    "    \"\"\"\n",
    "    r, g, b = (np.std(img[:,:,0]), np.std(img[:,:,1]), np.std(img[:,:,2]))  \n",
    "    return f\"({r:.2f}, {g:.2f}, {b:.2f})\" \n",
    "\n",
    "\n",
    "def get_img_range(img):\n",
    "    \"\"\"\n",
    "    Return min-max range of the image\n",
    "\n",
    "        Parameters:\n",
    "                img (numpy.array) -: Image \n",
    "\n",
    "        Returns:\n",
    "                (str): with min-max range\n",
    "               \n",
    "    \"\"\"\n",
    "    min, max = (np.min(img), np.max(img))  \n",
    "    return f\"({min:.2f}, {max:.2f})\" \n",
    "\n",
    "\n",
    "def preprocess_input_custom(img_batch, data_format=None):\n",
    "    \"\"\"\n",
    "    Custom preprocess function to do the following\n",
    "        - random contrast\n",
    "        - random brightness\n",
    "        - preprocess_input (keras)\n",
    "\n",
    "        Parameters:\n",
    "                img_batch (numpy.array): numpy.array of shape (batch_size, ht, wd, channels)\n",
    "                data_format (None)     : Optional data format of the image array\n",
    "\n",
    "        Returns:\n",
    "                img_preprocessed (numpy.array): Batch of preprocessed image\n",
    "                                                dtype = np.float32\n",
    "    \"\"\"\n",
    "\n",
    "    if img_batch.ndim == 3:\n",
    "        img_batch = np.expand_dims(img_batch, axis=0)  # Create batch of 1 image\n",
    "        # print(\"img_batch.shape: \", img_batch.shape)\n",
    "    \n",
    "    assert (img_batch.ndim == 4)\n",
    "    \n",
    "     # contrast formula: (x - mean) * factor + mean; [per channel, per image]\n",
    "     # contrast_factor > 1 leads to saturation\n",
    "    img_contrasted = random_contrast(img_batch, 0.25, 1.0)\n",
    "\n",
    "    #TODO: combine random_contrast and random_brightness to prevent redundant \n",
    "    #      conversions within these functions\n",
    "    #random delta <= 0.2 is added to each pixel\n",
    "    #img_bright = random_brightness(img_contrasted, 0.2) \n",
    "\n",
    "    # convert to bgr, zero centered \n",
    "    #img_preprocessed = preprocess_input(img_bright, data_format)\n",
    "\n",
    "    # Normalizing - Loop through batch\n",
    "    # print(\"img_batch.dtype: \", img_batch.dtype)\n",
    "    # norm_batch = []\n",
    "    # norm_range = (0, 1)\n",
    "    # for i, img in enumerate(img_preprocessed):\n",
    "    #     img = cv2.normalize(img, None, \n",
    "    #                         alpha=norm_range[0], beta=norm_range[1],\n",
    "    #                         norm_type = cv2.NORM_MINMAX,\n",
    "    #                         dtype = cv2.CV_32F)\n",
    "    #     norm_batch.append(img)\n",
    "    \n",
    "    # norm_batch = np.asarray(norm_batch)\n",
    "    # print(\"norm_batch.shape: \", norm_batch.shape)\n",
    "    # print(\"norm_batch: \", norm_batch)\n",
    "    # return norm_batch\n",
    "    return img_preprocessed\n",
    "\n",
    "\n",
    "def load_image_per_class(data_dir):\n",
    "    \"\"\"\n",
    "    Returns a numpy.array of an image each from the data_dir\n",
    "\n",
    "        Parameters:\n",
    "            data_dir (str): Path to directory in which the data is stored.\n",
    "        \n",
    "        Returns:\n",
    "            images (numpy.array): Array of n images, where n = len(classes_to_train)\n",
    "    \"\"\"\n",
    "    images = []\n",
    "    for label in CLASS_NAMES:\n",
    "        im_file = random.choice(os.listdir(data_dir + label))\n",
    "        img = cv2.imread(data_dir + label + \"/\" + im_file)  # Todo: Path.join\n",
    "        img = cv2.cvtColor(img, cv2.COLOR_BGR2RGB)\n",
    "        images.append(img)\n",
    "\n",
    "    images = np.array(images)\n",
    "    return images\n",
    "\n",
    "\n",
    "def visualize(images, titles, plot_params=True, cmap=None, suptitle=None,\n",
    "              savefig=True, fname=\"plot\", interpolation=None):\n",
    "    \"\"\"\n",
    "    Plot a batch of images in a row. images and titles should be of equal length.\n",
    "    Image mean, sd and range are also added to plot title if plot_params is set.\n",
    "\n",
    "        Parameters:\n",
    "                images (numpy.array): Array of images\n",
    "                title (list(str))   : List of str with plot titles\n",
    "                plot_params (bool)  : Plot with image mean, s.d and range\n",
    "                savefig (bool)      : Save the figure to file\n",
    "                fname (str)         : Filename to save the figure \n",
    "        \n",
    "        Returns:\n",
    "                None\n",
    "    \"\"\"\n",
    "    assert(len(images) == len(titles))\n",
    "    fig, ax = plt.subplots(1, len(images), figsize=(3*len(images), 3), sharey=True)\n",
    "    fig.tight_layout(pad=3)\n",
    "    # fig.subplots_adjust(hspace=0.3)\n",
    "    if suptitle:\n",
    "        plt.suptitle(suptitle)\n",
    "    \n",
    "    for i, image in enumerate(images):\n",
    "        plot_title = f\"{titles[i]}\"\n",
    "        if plot_params:\n",
    "            im_mean = get_img_mean(np.array(image))\n",
    "            im_sd = get_img_std(np.array(image))\n",
    "            im_range = get_img_range(np.array(image))\n",
    "            plot_title = f\"{plot_title}\\n m={im_mean}\\n sd={im_sd}\\n range={im_range}\"\n",
    "        ax[i].set_title(plot_title)    \n",
    "\n",
    "        # since matplotlib.colors.Normalize is not working, converting image \n",
    "        # to (0., 1.) range for plotting\n",
    "        image_norm = cv2.normalize(image, None, \n",
    "                            alpha=0., beta=1.,\n",
    "                            norm_type = cv2.NORM_MINMAX,\n",
    "                            dtype = cv2.CV_32F)\n",
    "        \n",
    "        ax[i].imshow(image_norm, cmap=cmap, interpolation=interpolation)\n",
    "    if savefig:\n",
    "        plt.savefig(f'{fname}.eps', format='eps')\n",
    "    plt.show()\n",
    "\n",
    "\n",
    "def simple_viz(*args, plot_size=3):\n",
    "    images = args\n",
    "    fig, ax = plt.subplots(1, len(images), \n",
    "                           figsize=(plot_size*len(images), plot_size), \n",
    "                           sharey=True)\n",
    "    ax = ax.flatten()\n",
    "    plt.figure()\n",
    "    for i, image in enumerate(images):\n",
    "        ax[i].imshow(np.array(image))\n",
    "    plt.show()\n",
    "\n",
    "\n",
    "def plot_imgen(data_gen, cols=7, savefig=True, file_prefix=\"plot_\"):\n",
    "    \"\"\"\n",
    "    Plot a batch of images from datagenerator\n",
    "\n",
    "        Parameters:\n",
    "                data_gen (DirectoryIterator) : from ImageDataGenerator().flow_from_directory() \n",
    "                cols (int)                   : number of columns\n",
    "                savefig (bool)               : Save figure to file\n",
    "                file_prefix (str)            : Filename to save as. \n",
    "\n",
    "        Returns:\n",
    "                None\n",
    "    \"\"\"\n",
    "\n",
    "    y_true_labels = data_gen.labels\n",
    "    text_labels = list(data_gen.class_indices.keys())   \n",
    "    \n",
    "    n = data_gen.batch_size  # num of images to plot from the batch\n",
    "    rows = ceil(n/cols)\n",
    "\n",
    "    img_batch, labels = next(data_gen) # unpacking images and labels\n",
    "    batch_labels_text = [text_labels[m] for m in np.argmax(labels, axis=1)] \n",
    "    \n",
    "    for r in range(rows):\n",
    "        images = img_batch[r*cols:r*cols+cols]\n",
    "        images = images[:,:,:,::-1]  #  Interchange (BGR -> RGB)\n",
    "        label =  batch_labels_text[r*cols:r*cols+cols]\n",
    "        visualize(images, label, savefig=savefig, fname=f\"{file_prefix}{r}\")\n",
    "\n",
    "\n",
    "\n",
    "\n",
    "def plot_cf_matrix(model, data_gen, plot_size=(6, 6), \n",
    "                   plot_title=\"Confusion Mat\",\n",
    "                   savefig=True):\n",
    "    \"\"\"\n",
    "    Plot Confusion matrix\n",
    "\n",
    "            Parameters:\n",
    "                    model                        : Trained model for predictions\n",
    "                    data_gen (DirectoryIterator) : from ImageDataGenerator().flow_from_directory()\n",
    "                    plot_size (tuple)            : Plot size (w, h)\n",
    "                    plot_title (str)             : \n",
    "\n",
    "            Returns:\n",
    "                    None\n",
    "\n",
    "    \"\"\"\n",
    "    \n",
    "    fig, ax = plt.subplots(figsize=plot_size)\n",
    "\n",
    "    y_true_labels = data_gen.labels\n",
    "    text_labels = list(data_gen.class_indices.keys())\n",
    "\n",
    "    y_pred = model.predict(data_gen)\n",
    "    y_pred_labels = np.argmax(y_pred, axis=1)\n",
    "    \n",
    "    cm = confusion_matrix(y_true=y_true_labels, y_pred=y_pred_labels, normalize='true')\n",
    "    disp = ConfusionMatrixDisplay(confusion_matrix=cm,\n",
    "                                display_labels=text_labels,)\n",
    "\n",
    "    disp = disp.plot(include_values=True, cmap='GnBu', \n",
    "                     xticks_rotation='vertical',\n",
    "                     values_format='.2f', ax=ax)\n",
    "    \n",
    "    fname = plot_title\n",
    "    acc = f\"{accuracy_score(y_true_labels, y_pred_labels):.2f}\"\n",
    "    f1_macro = f1_score(y_true_labels, y_pred_labels, average='macro')\n",
    "    f1_micro = f1_score(y_true_labels, y_pred_labels, average='micro')\n",
    "    plot_title = f\"{plot_title} \\n f1-macro = {f1_macro:.2f}, f1-micro = {f1_micro:.2f}\"\n",
    "    plt.title(plot_title, fontdict={'fontsize':12})\n",
    "    if savefig:\n",
    "        plt.savefig(f'{fname}_acc_{acc}.eps', format='eps')\n",
    "    plt.show()\n",
    "\n",
    "\n",
    "def predictions_on_imgs(model, data_dir, num_samples=4, plot_title=None,\n",
    "                        savefig=True, file_prefix=\"prediction_\"):\n",
    "    \"\"\"\n",
    "    Run predictions on num_samples images from class_dir w/o imagegenerator and\n",
    "    plot confusion matrx and the images\n",
    "    \n",
    "        Parameters:\n",
    "                model               : Trained model for predictions\n",
    "                data_dir (str)      : Path to image class\n",
    "                num_samples (int)   : Number of samples\n",
    "                plot_title (str)    :\n",
    "                plot_samples (bool) : Should sample images be plotted\n",
    "            \n",
    "        Returns:\n",
    "                None\n",
    "    \"\"\"\n",
    "    true_labels = []\n",
    "    pred_labels = []\n",
    "\n",
    "    true_labels = classes_to_train\n",
    "\n",
    "    for i in range(num_samples):\n",
    "        # for j, label in enumerate(classes_to_train):\n",
    "        img_batch = load_image_per_class(data_dir)\n",
    "        img_preprocessed = preprocess_function(img_batch)\n",
    "        predictions = model.predict(img_preprocessed).argmax(axis=1)\n",
    "        pred_labels = [classes_to_train[c] for c in predictions]\n",
    "\n",
    "        titles = [f\"true={true_label}, pred={pred_label}\" \n",
    "                  for true_label, pred_label in zip(true_labels, pred_labels)] \n",
    "\n",
    "        visualize(img_batch, titles, plot_params=False, suptitle=plot_title,\n",
    "                  savefig=savefig, fname=f\"{file_prefix}{i}_\")\n",
    "\n",
    "\n",
    "class TerminateOnBaseline(Callback):\n",
    "    \"\"\"\n",
    "    Callback that terminates training when either acc or val_acc reaches a \n",
    "    specified baseline\n",
    "    \"\"\"\n",
    "    def __init__(self, monitor='accuracy', baseline=0.9):\n",
    "        super(TerminateOnBaseline, self).__init__()\n",
    "        self.monitor = monitor\n",
    "        self.baseline = baseline\n",
    "\n",
    "    def on_epoch_end(self, epoch, logs=None):\n",
    "        logs = logs or {}\n",
    "        acc = logs.get(self.monitor)\n",
    "        if acc is not None:\n",
    "            if acc >= self.baseline:\n",
    "                print('Epoch %d: Reached baseline, terminating training' % (epoch))\n",
    "                self.model.stop_training = True\n"
   ]
  },
  {
   "cell_type": "code",
   "execution_count": 15,
   "metadata": {
    "cellView": "form",
    "executionInfo": {
     "elapsed": 7,
     "status": "ok",
     "timestamp": 1659087024196,
     "user": {
      "displayName": "Sreejith S",
      "userId": "00535157397244177597"
     },
     "user_tz": -330
    },
    "id": "HpN56WqqIgJq"
   },
   "outputs": [],
   "source": [
    "#@title Data prep utils\n",
    "\n",
    "def add_noise(image, mask, noise_type=\"gauss\", noise_mean=120, noise_sigma=10,\n",
    "              plot=False):            \n",
    "    \"\"\"\n",
    "    Takes an image and mask as input and returns noise-added masked image\n",
    "    \n",
    "        Parameters:\n",
    "                img (numpy.ndarray)  : dtype = np.uint8\n",
    "                mask (numpy.ndarray) : Segmentaion map, dtype = np.uint8\n",
    "    \"\"\"\n",
    "    # Create Gaussian Noise\n",
    "    if noise_type == \"gauss\":\n",
    "        mean = (noise_mean, noise_mean, noise_mean)\n",
    "        sigma = (noise_sigma, noise_sigma, noise_sigma)   \n",
    "        noise_img = np.zeros(image.shape, np.uint8)\n",
    "        cv2.randn(noise_img, mean, sigma)\n",
    "    elif noise_type == \"uniform\":\n",
    "        noise_img = np.zeros(image.shape, np.uint8)\n",
    "        cv2.randu(noise_img, (0, 0, 0), (255, 255, 255))\n",
    "    else:\n",
    "        raise ValueError(\"Unsupported noise_type: noise_type should be 'gauss' or 'uniform'\")\n",
    "\n",
    "\n",
    "    # Create inverted mask \n",
    "    # cv2.threshold is faster than element-wise subtraction\n",
    "    # set threshold = 127 and use THRESH_BINARY_INV to invert the mask\n",
    "    ret, bin_mask = cv2.threshold(mask, 127, 255, cv2.THRESH_BINARY_INV)\n",
    "    # bin_mask = 255 - mask  # Slower\n",
    "\n",
    "    noise = cv2.bitwise_and(noise_img, noise_img, mask=bin_mask)\n",
    "    if plot:\n",
    "        simple_viz(image, mask, bin_mask, noise_img, noise, cv2.add(image, noise))\n",
    "    return cv2.add(image, noise)\n",
    "\n"
   ]
  },
  {
   "cell_type": "markdown",
   "metadata": {
    "id": "ic__xVo9hwTu"
   },
   "source": [
    "## Initialize Variables"
   ]
  },
  {
   "cell_type": "code",
   "execution_count": 16,
   "metadata": {
    "executionInfo": {
     "elapsed": 8,
     "status": "ok",
     "timestamp": 1659087024197,
     "user": {
      "displayName": "Sreejith S",
      "userId": "00535157397244177597"
     },
     "user_tz": -330
    },
    "id": "FHI8d5rQq3QC"
   },
   "outputs": [],
   "source": [
    "# Global Constants\n",
    "BATCH_SIZE = 128\n",
    "EARLY_STOP_PATIENCE = 5\n",
    "EPOCHS = 10\n",
    "LEARN_RATE = 0.001\n",
    "NROW = 224\n",
    "NCOL = 224\n",
    "NCH = 3\n",
    "NCLASS = 6\n",
    "VALRATIO = 0.1737 # Train to Validation \n",
    "\n",
    "MAXINT = 255\n",
    "MININT = 0\n",
    "\n",
    "CLASS_NAMES = [\"Step_1\", \"Step_2\",  \"Step_3\",  \"Step_4\",  \n",
    "                    \"Step_5\" , \"Step_6\"]\n",
    "\n",
    "NORMS = np.array([0.4914, 0.4822, 0.4465])\n",
    "STDS = np.array([0.2023, 0.1994, 0.2010])\n",
    "\n",
    "#norms = np.array([0.485, 0.456, 0.406]) \n",
    "#stds = np.array([0.229, 0.224, 0.225])\n",
    "\n",
    "RANDOM_SEED = 1900\n"
   ]
  },
  {
   "cell_type": "code",
   "execution_count": 17,
   "metadata": {
    "executionInfo": {
     "elapsed": 7,
     "status": "ok",
     "timestamp": 1659087024197,
     "user": {
      "displayName": "Sreejith S",
      "userId": "00535157397244177597"
     },
     "user_tz": -330
    },
    "id": "SfxX1FEANliS"
   },
   "outputs": [],
   "source": [
    "all_envs = [\"*G_01*\", \"*G_02*\", \"*G_03*\", \"*G_04*\", \"*G_05*\"]\n",
    "TRAIN_ENVS = [\"*G_01*\", \"*G_02*\", \"*G_03*\", \"*G_05*\"]\n",
    "TEST_ENVS = [\"*G_04*\"]\n",
    "\n",
    "\n",
    "train_dir = '/content/train/' \n",
    "#val_dir = '/content/val/' \n",
    "test_dir = '/content/test/'"
   ]
  },
  {
   "cell_type": "code",
   "execution_count": 18,
   "metadata": {
    "executionInfo": {
     "elapsed": 7,
     "status": "ok",
     "timestamp": 1659087024197,
     "user": {
      "displayName": "Sreejith S",
      "userId": "00535157397244177597"
     },
     "user_tz": -330
    },
    "id": "4AdGyNEWk9s4"
   },
   "outputs": [],
   "source": [
    "os.mkdir(train_dir)\n",
    "os.mkdir(test_dir)\n",
    "for l in CLASS_NAMES:\n",
    "  os.mkdir(train_dir+'/'+l)\n",
    "  os.mkdir(test_dir+'/'+l)"
   ]
  },
  {
   "cell_type": "code",
   "execution_count": 19,
   "metadata": {
    "executionInfo": {
     "elapsed": 59111,
     "status": "ok",
     "timestamp": 1659087083302,
     "user": {
      "displayName": "Sreejith S",
      "userId": "00535157397244177597"
     },
     "user_tz": -330
    },
    "id": "2A0WFeD3PTVV"
   },
   "outputs": [],
   "source": [
    "dirpath = \"/content/HW_V4_raw_cropped_with_seg_maps/samples/\"\n",
    "\n",
    "for classlabels in CLASS_NAMES:\n",
    "  fnames = []\n",
    "  testfnames = []\n",
    "  trainfnames = []\n",
    "  # Extract entire file names in each class\n",
    "  fnames.extend(os.listdir(dirpath+classlabels+'/'))\n",
    "  # Extract entire test file names in each class\n",
    "  testfnames.extend(list(\n",
    "      os.path.basename(x) \n",
    "      for x in glob.glob(list(dirpath+classlabels+'/'+t for t in TEST_ENVS)[0])\n",
    "      )\n",
    "  )\n",
    "  # Extract entire train file names in each class\n",
    "  trainfnames = set(fnames)^set(testfnames)\n",
    "\n",
    "  for name in trainfnames:\n",
    "    copyfile(dirpath+classlabels+'/'+name, train_dir+classlabels+'/'+name)\n",
    "\n",
    "  for name in testfnames:\n",
    "    copyfile(dirpath+classlabels+'/'+name, test_dir+classlabels+'/'+name)\n"
   ]
  },
  {
   "cell_type": "code",
   "execution_count": 20,
   "metadata": {
    "executionInfo": {
     "elapsed": 9,
     "status": "ok",
     "timestamp": 1659087083303,
     "user": {
      "displayName": "Sreejith S",
      "userId": "00535157397244177597"
     },
     "user_tz": -330
    },
    "id": "u9M1WHarv9TH"
   },
   "outputs": [],
   "source": [
    "def preprocess_norm(img):\n",
    "  img = img/MAXINT\n",
    "  #img = img - norms\n",
    "  #img = img/stds\n",
    "  return img\n",
    "\n",
    "\n",
    "#normalize = NormalizeByChannelMeanStd(\n",
    "#    mean=[0.485, 0.456, 0.406], std=[0.229, 0.224, 0.225])"
   ]
  },
  {
   "cell_type": "code",
   "execution_count": 21,
   "metadata": {
    "executionInfo": {
     "elapsed": 8,
     "status": "ok",
     "timestamp": 1659087083303,
     "user": {
      "displayName": "Sreejith S",
      "userId": "00535157397244177597"
     },
     "user_tz": -330
    },
    "id": "k4TOzCZT4n68"
   },
   "outputs": [],
   "source": [
    "image_datagen = ImageDataGenerator(preprocessing_function=preprocess_input,\n",
    "                                   rotation_range=10,\n",
    "                                   width_shift_range=0.1, \n",
    "                                   height_shift_range=0.1,\n",
    "                                   zoom_range=0.1,\n",
    "                                   brightness_range= [0.7,1.3],\n",
    "                                   validation_split=VALRATIO)"
   ]
  },
  {
   "cell_type": "code",
   "execution_count": 22,
   "metadata": {
    "colab": {
     "base_uri": "https://localhost:8080/"
    },
    "executionInfo": {
     "elapsed": 1548,
     "status": "ok",
     "timestamp": 1659087084844,
     "user": {
      "displayName": "Sreejith S",
      "userId": "00535157397244177597"
     },
     "user_tz": -330
    },
    "id": "BdOqSrOv32nv",
    "outputId": "8dc71bd3-51ab-498f-97bd-fcd6f2be53a2"
   },
   "outputs": [
    {
     "name": "stdout",
     "output_type": "stream",
     "text": [
      "Found 72357 images belonging to 6 classes.\n"
     ]
    }
   ],
   "source": [
    "train_gen = image_datagen.flow_from_directory(batch_size=BATCH_SIZE,\n",
    "                                             directory=train_dir,\n",
    "                                             shuffle=True,\n",
    "                                             target_size=(NROW, NCOL),\n",
    "                                             class_mode=\"categorical\",\n",
    "                                             classes=CLASS_NAMES,\n",
    "                                             subset='training')"
   ]
  },
  {
   "cell_type": "code",
   "execution_count": 23,
   "metadata": {
    "colab": {
     "base_uri": "https://localhost:8080/"
    },
    "executionInfo": {
     "elapsed": 8,
     "status": "ok",
     "timestamp": 1659087084845,
     "user": {
      "displayName": "Sreejith S",
      "userId": "00535157397244177597"
     },
     "user_tz": -330
    },
    "id": "AJPg2KAR66i5",
    "outputId": "d3c3a432-db01-4b04-9146-a09c8249a570"
   },
   "outputs": [
    {
     "name": "stdout",
     "output_type": "stream",
     "text": [
      "Found 15208 images belonging to 6 classes.\n"
     ]
    }
   ],
   "source": [
    "val_gen = image_datagen.flow_from_directory(batch_size=BATCH_SIZE,\n",
    "                                             directory=train_dir,\n",
    "                                             shuffle=False,\n",
    "                                             target_size=(NROW, NCOL),\n",
    "                                             class_mode=\"categorical\",\n",
    "                                             classes=CLASS_NAMES,\n",
    "                                             subset='validation')"
   ]
  },
  {
   "cell_type": "code",
   "execution_count": 24,
   "metadata": {
    "executionInfo": {
     "elapsed": 5,
     "status": "ok",
     "timestamp": 1659087084846,
     "user": {
      "displayName": "Sreejith S",
      "userId": "00535157397244177597"
     },
     "user_tz": -330
    },
    "id": "AnfsFWPmpWF2"
   },
   "outputs": [],
   "source": [
    "test_image_datagen = ImageDataGenerator(preprocessing_function=preprocess_input)"
   ]
  },
  {
   "cell_type": "code",
   "execution_count": 25,
   "metadata": {
    "colab": {
     "base_uri": "https://localhost:8080/"
    },
    "executionInfo": {
     "elapsed": 1194,
     "status": "ok",
     "timestamp": 1659087086036,
     "user": {
      "displayName": "Sreejith S",
      "userId": "00535157397244177597"
     },
     "user_tz": -330
    },
    "id": "69jluUbD6M1b",
    "outputId": "4348e096-6e95-4815-c04e-d1ec534976da"
   },
   "outputs": [
    {
     "name": "stdout",
     "output_type": "stream",
     "text": [
      "Found 11980 images belonging to 6 classes.\n"
     ]
    }
   ],
   "source": [
    " test_gen = test_image_datagen.flow_from_directory(batch_size=BATCH_SIZE,\n",
    "                                              directory=test_dir,\n",
    "                                              shuffle=False,\n",
    "                                              target_size=(NROW, NCOL),\n",
    "                                              class_mode=\"categorical\",\n",
    "                                              classes=CLASS_NAMES,\n",
    "                                              seed=RANDOM_SEED)"
   ]
  },
  {
   "cell_type": "code",
   "execution_count": 26,
   "metadata": {
    "colab": {
     "base_uri": "https://localhost:8080/",
     "height": 1000,
     "output_embedded_package_id": "1U18j_QNAgPOxoycqr-Y00oTP6DvaldVw"
    },
    "executionInfo": {
     "elapsed": 24839,
     "status": "ok",
     "timestamp": 1659087110871,
     "user": {
      "displayName": "Sreejith S",
      "userId": "00535157397244177597"
     },
     "user_tz": -330
    },
    "id": "zQejF1lprv3T",
    "outputId": "3edc99ab-b73b-43e1-a63c-cf7a9196fe42"
   },
   "outputs": [
    {
     "data": {
      "text/plain": [
       "Output hidden; open in https://colab.research.google.com to view."
      ]
     },
     "metadata": {},
     "output_type": "display_data"
    }
   ],
   "source": [
    "# Datagen to plot train samples \n",
    "plot_train_gen = image_datagen.flow_from_directory(batch_size=49,\n",
    "                                             directory=train_dir,\n",
    "                                             shuffle=True,\n",
    "                                             target_size=(NROW, NCOL),\n",
    "                                             class_mode=\"categorical\",\n",
    "                                             classes=CLASS_NAMES,\n",
    "                                             subset='training')\n",
    "\n",
    "\n",
    "plot_validation_gen = image_datagen.flow_from_directory(batch_size=49,\n",
    "                                                   directory=train_dir,\n",
    "                                                   shuffle=False,\n",
    "                                                   target_size=(NROW, NCOL),\n",
    "                                                   class_mode=\"categorical\",\n",
    "                                                   classes=CLASS_NAMES,\n",
    "                                                   subset='validation')\n",
    "\n",
    "# Datagen to plot test samples \n",
    "plot_test_gen = test_image_datagen.flow_from_directory(batch_size=49,\n",
    "                                             directory=test_dir,\n",
    "                                             shuffle=False,\n",
    "                                             target_size=(NROW, NCOL),\n",
    "                                             class_mode=\"categorical\",\n",
    "                                             classes=CLASS_NAMES,\n",
    "                                             seed=RANDOM_SEED)\n",
    "\n",
    "plot_imgen(plot_train_gen, cols=7, savefig=False, file_prefix=\"train_img_\")\n",
    "plot_imgen(plot_validation_gen, cols=7, savefig=False, file_prefix=\"train_img_\")\n",
    "plot_imgen(plot_test_gen, cols=7, savefig=False, file_prefix=\"test_img_\")"
   ]
  },
  {
   "cell_type": "code",
   "execution_count": 27,
   "metadata": {
    "executionInfo": {
     "elapsed": 26,
     "status": "ok",
     "timestamp": 1659087110872,
     "user": {
      "displayName": "Sreejith S",
      "userId": "00535157397244177597"
     },
     "user_tz": -330
    },
    "id": "ze8m6Klfq3QI"
   },
   "outputs": [],
   "source": [
    "#Randomly transform the original images but keeping the original dimensions of the data\n",
    "# train_generator.fit(x_train)\n",
    "# val_generator.fit(x_val)\n",
    "# test_generator.fit(x_test)"
   ]
  },
  {
   "cell_type": "code",
   "execution_count": 28,
   "metadata": {
    "executionInfo": {
     "elapsed": 24,
     "status": "ok",
     "timestamp": 1659087110872,
     "user": {
      "displayName": "Sreejith S",
      "userId": "00535157397244177597"
     },
     "user_tz": -330
    },
    "id": "Ez2aYpzPq3QI"
   },
   "outputs": [],
   "source": [
    "'''Learning Rate Annealer:Learning rate is modified after a set number of epochs or after a certain condition is met by using the patience parameter.'''\n",
    "\n",
    "lrr = ReduceLROnPlateau(\n",
    "                       monitor = 'val_accuracy', #Metric to be measured\n",
    "                       factor = .01, #Factor by which learning rate will be reduced\n",
    "                       patience = 3,  #No. of epochs after which if there is no improvement in the val_acc, the learning rate is reduced\n",
    "                       min_lr = 1e-5) #The minimum learning rate \n",
    "\n",
    "es = EarlyStopping(monitor = 'val_loss', mode = 'min', verbose = 1, patience = 50, restore_best_weights = True)\n",
    "mc = ModelCheckpoint('best_model.h5', monitor = 'val_loss', mode = 'min', verbose = 1, save_best_only = True)\n",
    "callback_list = [lrr, es, mc]"
   ]
  },
  {
   "cell_type": "code",
   "execution_count": 29,
   "metadata": {
    "colab": {
     "base_uri": "https://localhost:8080/"
    },
    "executionInfo": {
     "elapsed": 2873,
     "status": "ok",
     "timestamp": 1659087113722,
     "user": {
      "displayName": "Sreejith S",
      "userId": "00535157397244177597"
     },
     "user_tz": -330
    },
    "id": "ko80own_eXUz",
    "outputId": "160c5e8b-0e69-4c8d-eea3-3c7236f13345"
   },
   "outputs": [
    {
     "name": "stdout",
     "output_type": "stream",
     "text": [
      "Downloading data from https://storage.googleapis.com/tensorflow/keras-applications/resnet/resnet50_weights_tf_dim_ordering_tf_kernels_notop.h5\n",
      "94773248/94765736 [==============================] - 0s 0us/step\n",
      "94781440/94765736 [==============================] - 0s 0us/step\n",
      "Model: \"resnet50\"\n",
      "__________________________________________________________________________________________________\n",
      " Layer (type)                   Output Shape         Param #     Connected to                     \n",
      "==================================================================================================\n",
      " input_2 (InputLayer)           [(None, 224, 224, 3  0           []                               \n",
      "                                )]                                                                \n",
      "                                                                                                  \n",
      " conv1_pad (ZeroPadding2D)      (None, 230, 230, 3)  0           ['input_2[0][0]']                \n",
      "                                                                                                  \n",
      " conv1_conv (Conv2D)            (None, 112, 112, 64  9472        ['conv1_pad[0][0]']              \n",
      "                                )                                                                 \n",
      "                                                                                                  \n",
      " conv1_bn (BatchNormalization)  (None, 112, 112, 64  256         ['conv1_conv[0][0]']             \n",
      "                                )                                                                 \n",
      "                                                                                                  \n",
      " conv1_relu (Activation)        (None, 112, 112, 64  0           ['conv1_bn[0][0]']               \n",
      "                                )                                                                 \n",
      "                                                                                                  \n",
      " pool1_pad (ZeroPadding2D)      (None, 114, 114, 64  0           ['conv1_relu[0][0]']             \n",
      "                                )                                                                 \n",
      "                                                                                                  \n",
      " pool1_pool (MaxPooling2D)      (None, 56, 56, 64)   0           ['pool1_pad[0][0]']              \n",
      "                                                                                                  \n",
      " conv2_block1_1_conv (Conv2D)   (None, 56, 56, 64)   4160        ['pool1_pool[0][0]']             \n",
      "                                                                                                  \n",
      " conv2_block1_1_bn (BatchNormal  (None, 56, 56, 64)  256         ['conv2_block1_1_conv[0][0]']    \n",
      " ization)                                                                                         \n",
      "                                                                                                  \n",
      " conv2_block1_1_relu (Activatio  (None, 56, 56, 64)  0           ['conv2_block1_1_bn[0][0]']      \n",
      " n)                                                                                               \n",
      "                                                                                                  \n",
      " conv2_block1_2_conv (Conv2D)   (None, 56, 56, 64)   36928       ['conv2_block1_1_relu[0][0]']    \n",
      "                                                                                                  \n",
      " conv2_block1_2_bn (BatchNormal  (None, 56, 56, 64)  256         ['conv2_block1_2_conv[0][0]']    \n",
      " ization)                                                                                         \n",
      "                                                                                                  \n",
      " conv2_block1_2_relu (Activatio  (None, 56, 56, 64)  0           ['conv2_block1_2_bn[0][0]']      \n",
      " n)                                                                                               \n",
      "                                                                                                  \n",
      " conv2_block1_0_conv (Conv2D)   (None, 56, 56, 256)  16640       ['pool1_pool[0][0]']             \n",
      "                                                                                                  \n",
      " conv2_block1_3_conv (Conv2D)   (None, 56, 56, 256)  16640       ['conv2_block1_2_relu[0][0]']    \n",
      "                                                                                                  \n",
      " conv2_block1_0_bn (BatchNormal  (None, 56, 56, 256)  1024       ['conv2_block1_0_conv[0][0]']    \n",
      " ization)                                                                                         \n",
      "                                                                                                  \n",
      " conv2_block1_3_bn (BatchNormal  (None, 56, 56, 256)  1024       ['conv2_block1_3_conv[0][0]']    \n",
      " ization)                                                                                         \n",
      "                                                                                                  \n",
      " conv2_block1_add (Add)         (None, 56, 56, 256)  0           ['conv2_block1_0_bn[0][0]',      \n",
      "                                                                  'conv2_block1_3_bn[0][0]']      \n",
      "                                                                                                  \n",
      " conv2_block1_out (Activation)  (None, 56, 56, 256)  0           ['conv2_block1_add[0][0]']       \n",
      "                                                                                                  \n",
      " conv2_block2_1_conv (Conv2D)   (None, 56, 56, 64)   16448       ['conv2_block1_out[0][0]']       \n",
      "                                                                                                  \n",
      " conv2_block2_1_bn (BatchNormal  (None, 56, 56, 64)  256         ['conv2_block2_1_conv[0][0]']    \n",
      " ization)                                                                                         \n",
      "                                                                                                  \n",
      " conv2_block2_1_relu (Activatio  (None, 56, 56, 64)  0           ['conv2_block2_1_bn[0][0]']      \n",
      " n)                                                                                               \n",
      "                                                                                                  \n",
      " conv2_block2_2_conv (Conv2D)   (None, 56, 56, 64)   36928       ['conv2_block2_1_relu[0][0]']    \n",
      "                                                                                                  \n",
      " conv2_block2_2_bn (BatchNormal  (None, 56, 56, 64)  256         ['conv2_block2_2_conv[0][0]']    \n",
      " ization)                                                                                         \n",
      "                                                                                                  \n",
      " conv2_block2_2_relu (Activatio  (None, 56, 56, 64)  0           ['conv2_block2_2_bn[0][0]']      \n",
      " n)                                                                                               \n",
      "                                                                                                  \n",
      " conv2_block2_3_conv (Conv2D)   (None, 56, 56, 256)  16640       ['conv2_block2_2_relu[0][0]']    \n",
      "                                                                                                  \n",
      " conv2_block2_3_bn (BatchNormal  (None, 56, 56, 256)  1024       ['conv2_block2_3_conv[0][0]']    \n",
      " ization)                                                                                         \n",
      "                                                                                                  \n",
      " conv2_block2_add (Add)         (None, 56, 56, 256)  0           ['conv2_block1_out[0][0]',       \n",
      "                                                                  'conv2_block2_3_bn[0][0]']      \n",
      "                                                                                                  \n",
      " conv2_block2_out (Activation)  (None, 56, 56, 256)  0           ['conv2_block2_add[0][0]']       \n",
      "                                                                                                  \n",
      " conv2_block3_1_conv (Conv2D)   (None, 56, 56, 64)   16448       ['conv2_block2_out[0][0]']       \n",
      "                                                                                                  \n",
      " conv2_block3_1_bn (BatchNormal  (None, 56, 56, 64)  256         ['conv2_block3_1_conv[0][0]']    \n",
      " ization)                                                                                         \n",
      "                                                                                                  \n",
      " conv2_block3_1_relu (Activatio  (None, 56, 56, 64)  0           ['conv2_block3_1_bn[0][0]']      \n",
      " n)                                                                                               \n",
      "                                                                                                  \n",
      " conv2_block3_2_conv (Conv2D)   (None, 56, 56, 64)   36928       ['conv2_block3_1_relu[0][0]']    \n",
      "                                                                                                  \n",
      " conv2_block3_2_bn (BatchNormal  (None, 56, 56, 64)  256         ['conv2_block3_2_conv[0][0]']    \n",
      " ization)                                                                                         \n",
      "                                                                                                  \n",
      " conv2_block3_2_relu (Activatio  (None, 56, 56, 64)  0           ['conv2_block3_2_bn[0][0]']      \n",
      " n)                                                                                               \n",
      "                                                                                                  \n",
      " conv2_block3_3_conv (Conv2D)   (None, 56, 56, 256)  16640       ['conv2_block3_2_relu[0][0]']    \n",
      "                                                                                                  \n",
      " conv2_block3_3_bn (BatchNormal  (None, 56, 56, 256)  1024       ['conv2_block3_3_conv[0][0]']    \n",
      " ization)                                                                                         \n",
      "                                                                                                  \n",
      " conv2_block3_add (Add)         (None, 56, 56, 256)  0           ['conv2_block2_out[0][0]',       \n",
      "                                                                  'conv2_block3_3_bn[0][0]']      \n",
      "                                                                                                  \n",
      " conv2_block3_out (Activation)  (None, 56, 56, 256)  0           ['conv2_block3_add[0][0]']       \n",
      "                                                                                                  \n",
      " conv3_block1_1_conv (Conv2D)   (None, 28, 28, 128)  32896       ['conv2_block3_out[0][0]']       \n",
      "                                                                                                  \n",
      " conv3_block1_1_bn (BatchNormal  (None, 28, 28, 128)  512        ['conv3_block1_1_conv[0][0]']    \n",
      " ization)                                                                                         \n",
      "                                                                                                  \n",
      " conv3_block1_1_relu (Activatio  (None, 28, 28, 128)  0          ['conv3_block1_1_bn[0][0]']      \n",
      " n)                                                                                               \n",
      "                                                                                                  \n",
      " conv3_block1_2_conv (Conv2D)   (None, 28, 28, 128)  147584      ['conv3_block1_1_relu[0][0]']    \n",
      "                                                                                                  \n",
      " conv3_block1_2_bn (BatchNormal  (None, 28, 28, 128)  512        ['conv3_block1_2_conv[0][0]']    \n",
      " ization)                                                                                         \n",
      "                                                                                                  \n",
      " conv3_block1_2_relu (Activatio  (None, 28, 28, 128)  0          ['conv3_block1_2_bn[0][0]']      \n",
      " n)                                                                                               \n",
      "                                                                                                  \n",
      " conv3_block1_0_conv (Conv2D)   (None, 28, 28, 512)  131584      ['conv2_block3_out[0][0]']       \n",
      "                                                                                                  \n",
      " conv3_block1_3_conv (Conv2D)   (None, 28, 28, 512)  66048       ['conv3_block1_2_relu[0][0]']    \n",
      "                                                                                                  \n",
      " conv3_block1_0_bn (BatchNormal  (None, 28, 28, 512)  2048       ['conv3_block1_0_conv[0][0]']    \n",
      " ization)                                                                                         \n",
      "                                                                                                  \n",
      " conv3_block1_3_bn (BatchNormal  (None, 28, 28, 512)  2048       ['conv3_block1_3_conv[0][0]']    \n",
      " ization)                                                                                         \n",
      "                                                                                                  \n",
      " conv3_block1_add (Add)         (None, 28, 28, 512)  0           ['conv3_block1_0_bn[0][0]',      \n",
      "                                                                  'conv3_block1_3_bn[0][0]']      \n",
      "                                                                                                  \n",
      " conv3_block1_out (Activation)  (None, 28, 28, 512)  0           ['conv3_block1_add[0][0]']       \n",
      "                                                                                                  \n",
      " conv3_block2_1_conv (Conv2D)   (None, 28, 28, 128)  65664       ['conv3_block1_out[0][0]']       \n",
      "                                                                                                  \n",
      " conv3_block2_1_bn (BatchNormal  (None, 28, 28, 128)  512        ['conv3_block2_1_conv[0][0]']    \n",
      " ization)                                                                                         \n",
      "                                                                                                  \n",
      " conv3_block2_1_relu (Activatio  (None, 28, 28, 128)  0          ['conv3_block2_1_bn[0][0]']      \n",
      " n)                                                                                               \n",
      "                                                                                                  \n",
      " conv3_block2_2_conv (Conv2D)   (None, 28, 28, 128)  147584      ['conv3_block2_1_relu[0][0]']    \n",
      "                                                                                                  \n",
      " conv3_block2_2_bn (BatchNormal  (None, 28, 28, 128)  512        ['conv3_block2_2_conv[0][0]']    \n",
      " ization)                                                                                         \n",
      "                                                                                                  \n",
      " conv3_block2_2_relu (Activatio  (None, 28, 28, 128)  0          ['conv3_block2_2_bn[0][0]']      \n",
      " n)                                                                                               \n",
      "                                                                                                  \n",
      " conv3_block2_3_conv (Conv2D)   (None, 28, 28, 512)  66048       ['conv3_block2_2_relu[0][0]']    \n",
      "                                                                                                  \n",
      " conv3_block2_3_bn (BatchNormal  (None, 28, 28, 512)  2048       ['conv3_block2_3_conv[0][0]']    \n",
      " ization)                                                                                         \n",
      "                                                                                                  \n",
      " conv3_block2_add (Add)         (None, 28, 28, 512)  0           ['conv3_block1_out[0][0]',       \n",
      "                                                                  'conv3_block2_3_bn[0][0]']      \n",
      "                                                                                                  \n",
      " conv3_block2_out (Activation)  (None, 28, 28, 512)  0           ['conv3_block2_add[0][0]']       \n",
      "                                                                                                  \n",
      " conv3_block3_1_conv (Conv2D)   (None, 28, 28, 128)  65664       ['conv3_block2_out[0][0]']       \n",
      "                                                                                                  \n",
      " conv3_block3_1_bn (BatchNormal  (None, 28, 28, 128)  512        ['conv3_block3_1_conv[0][0]']    \n",
      " ization)                                                                                         \n",
      "                                                                                                  \n",
      " conv3_block3_1_relu (Activatio  (None, 28, 28, 128)  0          ['conv3_block3_1_bn[0][0]']      \n",
      " n)                                                                                               \n",
      "                                                                                                  \n",
      " conv3_block3_2_conv (Conv2D)   (None, 28, 28, 128)  147584      ['conv3_block3_1_relu[0][0]']    \n",
      "                                                                                                  \n",
      " conv3_block3_2_bn (BatchNormal  (None, 28, 28, 128)  512        ['conv3_block3_2_conv[0][0]']    \n",
      " ization)                                                                                         \n",
      "                                                                                                  \n",
      " conv3_block3_2_relu (Activatio  (None, 28, 28, 128)  0          ['conv3_block3_2_bn[0][0]']      \n",
      " n)                                                                                               \n",
      "                                                                                                  \n",
      " conv3_block3_3_conv (Conv2D)   (None, 28, 28, 512)  66048       ['conv3_block3_2_relu[0][0]']    \n",
      "                                                                                                  \n",
      " conv3_block3_3_bn (BatchNormal  (None, 28, 28, 512)  2048       ['conv3_block3_3_conv[0][0]']    \n",
      " ization)                                                                                         \n",
      "                                                                                                  \n",
      " conv3_block3_add (Add)         (None, 28, 28, 512)  0           ['conv3_block2_out[0][0]',       \n",
      "                                                                  'conv3_block3_3_bn[0][0]']      \n",
      "                                                                                                  \n",
      " conv3_block3_out (Activation)  (None, 28, 28, 512)  0           ['conv3_block3_add[0][0]']       \n",
      "                                                                                                  \n",
      " conv3_block4_1_conv (Conv2D)   (None, 28, 28, 128)  65664       ['conv3_block3_out[0][0]']       \n",
      "                                                                                                  \n",
      " conv3_block4_1_bn (BatchNormal  (None, 28, 28, 128)  512        ['conv3_block4_1_conv[0][0]']    \n",
      " ization)                                                                                         \n",
      "                                                                                                  \n",
      " conv3_block4_1_relu (Activatio  (None, 28, 28, 128)  0          ['conv3_block4_1_bn[0][0]']      \n",
      " n)                                                                                               \n",
      "                                                                                                  \n",
      " conv3_block4_2_conv (Conv2D)   (None, 28, 28, 128)  147584      ['conv3_block4_1_relu[0][0]']    \n",
      "                                                                                                  \n",
      " conv3_block4_2_bn (BatchNormal  (None, 28, 28, 128)  512        ['conv3_block4_2_conv[0][0]']    \n",
      " ization)                                                                                         \n",
      "                                                                                                  \n",
      " conv3_block4_2_relu (Activatio  (None, 28, 28, 128)  0          ['conv3_block4_2_bn[0][0]']      \n",
      " n)                                                                                               \n",
      "                                                                                                  \n",
      " conv3_block4_3_conv (Conv2D)   (None, 28, 28, 512)  66048       ['conv3_block4_2_relu[0][0]']    \n",
      "                                                                                                  \n",
      " conv3_block4_3_bn (BatchNormal  (None, 28, 28, 512)  2048       ['conv3_block4_3_conv[0][0]']    \n",
      " ization)                                                                                         \n",
      "                                                                                                  \n",
      " conv3_block4_add (Add)         (None, 28, 28, 512)  0           ['conv3_block3_out[0][0]',       \n",
      "                                                                  'conv3_block4_3_bn[0][0]']      \n",
      "                                                                                                  \n",
      " conv3_block4_out (Activation)  (None, 28, 28, 512)  0           ['conv3_block4_add[0][0]']       \n",
      "                                                                                                  \n",
      " conv4_block1_1_conv (Conv2D)   (None, 14, 14, 256)  131328      ['conv3_block4_out[0][0]']       \n",
      "                                                                                                  \n",
      " conv4_block1_1_bn (BatchNormal  (None, 14, 14, 256)  1024       ['conv4_block1_1_conv[0][0]']    \n",
      " ization)                                                                                         \n",
      "                                                                                                  \n",
      " conv4_block1_1_relu (Activatio  (None, 14, 14, 256)  0          ['conv4_block1_1_bn[0][0]']      \n",
      " n)                                                                                               \n",
      "                                                                                                  \n",
      " conv4_block1_2_conv (Conv2D)   (None, 14, 14, 256)  590080      ['conv4_block1_1_relu[0][0]']    \n",
      "                                                                                                  \n",
      " conv4_block1_2_bn (BatchNormal  (None, 14, 14, 256)  1024       ['conv4_block1_2_conv[0][0]']    \n",
      " ization)                                                                                         \n",
      "                                                                                                  \n",
      " conv4_block1_2_relu (Activatio  (None, 14, 14, 256)  0          ['conv4_block1_2_bn[0][0]']      \n",
      " n)                                                                                               \n",
      "                                                                                                  \n",
      " conv4_block1_0_conv (Conv2D)   (None, 14, 14, 1024  525312      ['conv3_block4_out[0][0]']       \n",
      "                                )                                                                 \n",
      "                                                                                                  \n",
      " conv4_block1_3_conv (Conv2D)   (None, 14, 14, 1024  263168      ['conv4_block1_2_relu[0][0]']    \n",
      "                                )                                                                 \n",
      "                                                                                                  \n",
      " conv4_block1_0_bn (BatchNormal  (None, 14, 14, 1024  4096       ['conv4_block1_0_conv[0][0]']    \n",
      " ization)                       )                                                                 \n",
      "                                                                                                  \n",
      " conv4_block1_3_bn (BatchNormal  (None, 14, 14, 1024  4096       ['conv4_block1_3_conv[0][0]']    \n",
      " ization)                       )                                                                 \n",
      "                                                                                                  \n",
      " conv4_block1_add (Add)         (None, 14, 14, 1024  0           ['conv4_block1_0_bn[0][0]',      \n",
      "                                )                                 'conv4_block1_3_bn[0][0]']      \n",
      "                                                                                                  \n",
      " conv4_block1_out (Activation)  (None, 14, 14, 1024  0           ['conv4_block1_add[0][0]']       \n",
      "                                )                                                                 \n",
      "                                                                                                  \n",
      " conv4_block2_1_conv (Conv2D)   (None, 14, 14, 256)  262400      ['conv4_block1_out[0][0]']       \n",
      "                                                                                                  \n",
      " conv4_block2_1_bn (BatchNormal  (None, 14, 14, 256)  1024       ['conv4_block2_1_conv[0][0]']    \n",
      " ization)                                                                                         \n",
      "                                                                                                  \n",
      " conv4_block2_1_relu (Activatio  (None, 14, 14, 256)  0          ['conv4_block2_1_bn[0][0]']      \n",
      " n)                                                                                               \n",
      "                                                                                                  \n",
      " conv4_block2_2_conv (Conv2D)   (None, 14, 14, 256)  590080      ['conv4_block2_1_relu[0][0]']    \n",
      "                                                                                                  \n",
      " conv4_block2_2_bn (BatchNormal  (None, 14, 14, 256)  1024       ['conv4_block2_2_conv[0][0]']    \n",
      " ization)                                                                                         \n",
      "                                                                                                  \n",
      " conv4_block2_2_relu (Activatio  (None, 14, 14, 256)  0          ['conv4_block2_2_bn[0][0]']      \n",
      " n)                                                                                               \n",
      "                                                                                                  \n",
      " conv4_block2_3_conv (Conv2D)   (None, 14, 14, 1024  263168      ['conv4_block2_2_relu[0][0]']    \n",
      "                                )                                                                 \n",
      "                                                                                                  \n",
      " conv4_block2_3_bn (BatchNormal  (None, 14, 14, 1024  4096       ['conv4_block2_3_conv[0][0]']    \n",
      " ization)                       )                                                                 \n",
      "                                                                                                  \n",
      " conv4_block2_add (Add)         (None, 14, 14, 1024  0           ['conv4_block1_out[0][0]',       \n",
      "                                )                                 'conv4_block2_3_bn[0][0]']      \n",
      "                                                                                                  \n",
      " conv4_block2_out (Activation)  (None, 14, 14, 1024  0           ['conv4_block2_add[0][0]']       \n",
      "                                )                                                                 \n",
      "                                                                                                  \n",
      " conv4_block3_1_conv (Conv2D)   (None, 14, 14, 256)  262400      ['conv4_block2_out[0][0]']       \n",
      "                                                                                                  \n",
      " conv4_block3_1_bn (BatchNormal  (None, 14, 14, 256)  1024       ['conv4_block3_1_conv[0][0]']    \n",
      " ization)                                                                                         \n",
      "                                                                                                  \n",
      " conv4_block3_1_relu (Activatio  (None, 14, 14, 256)  0          ['conv4_block3_1_bn[0][0]']      \n",
      " n)                                                                                               \n",
      "                                                                                                  \n",
      " conv4_block3_2_conv (Conv2D)   (None, 14, 14, 256)  590080      ['conv4_block3_1_relu[0][0]']    \n",
      "                                                                                                  \n",
      " conv4_block3_2_bn (BatchNormal  (None, 14, 14, 256)  1024       ['conv4_block3_2_conv[0][0]']    \n",
      " ization)                                                                                         \n",
      "                                                                                                  \n",
      " conv4_block3_2_relu (Activatio  (None, 14, 14, 256)  0          ['conv4_block3_2_bn[0][0]']      \n",
      " n)                                                                                               \n",
      "                                                                                                  \n",
      " conv4_block3_3_conv (Conv2D)   (None, 14, 14, 1024  263168      ['conv4_block3_2_relu[0][0]']    \n",
      "                                )                                                                 \n",
      "                                                                                                  \n",
      " conv4_block3_3_bn (BatchNormal  (None, 14, 14, 1024  4096       ['conv4_block3_3_conv[0][0]']    \n",
      " ization)                       )                                                                 \n",
      "                                                                                                  \n",
      " conv4_block3_add (Add)         (None, 14, 14, 1024  0           ['conv4_block2_out[0][0]',       \n",
      "                                )                                 'conv4_block3_3_bn[0][0]']      \n",
      "                                                                                                  \n",
      " conv4_block3_out (Activation)  (None, 14, 14, 1024  0           ['conv4_block3_add[0][0]']       \n",
      "                                )                                                                 \n",
      "                                                                                                  \n",
      " conv4_block4_1_conv (Conv2D)   (None, 14, 14, 256)  262400      ['conv4_block3_out[0][0]']       \n",
      "                                                                                                  \n",
      " conv4_block4_1_bn (BatchNormal  (None, 14, 14, 256)  1024       ['conv4_block4_1_conv[0][0]']    \n",
      " ization)                                                                                         \n",
      "                                                                                                  \n",
      " conv4_block4_1_relu (Activatio  (None, 14, 14, 256)  0          ['conv4_block4_1_bn[0][0]']      \n",
      " n)                                                                                               \n",
      "                                                                                                  \n",
      " conv4_block4_2_conv (Conv2D)   (None, 14, 14, 256)  590080      ['conv4_block4_1_relu[0][0]']    \n",
      "                                                                                                  \n",
      " conv4_block4_2_bn (BatchNormal  (None, 14, 14, 256)  1024       ['conv4_block4_2_conv[0][0]']    \n",
      " ization)                                                                                         \n",
      "                                                                                                  \n",
      " conv4_block4_2_relu (Activatio  (None, 14, 14, 256)  0          ['conv4_block4_2_bn[0][0]']      \n",
      " n)                                                                                               \n",
      "                                                                                                  \n",
      " conv4_block4_3_conv (Conv2D)   (None, 14, 14, 1024  263168      ['conv4_block4_2_relu[0][0]']    \n",
      "                                )                                                                 \n",
      "                                                                                                  \n",
      " conv4_block4_3_bn (BatchNormal  (None, 14, 14, 1024  4096       ['conv4_block4_3_conv[0][0]']    \n",
      " ization)                       )                                                                 \n",
      "                                                                                                  \n",
      " conv4_block4_add (Add)         (None, 14, 14, 1024  0           ['conv4_block3_out[0][0]',       \n",
      "                                )                                 'conv4_block4_3_bn[0][0]']      \n",
      "                                                                                                  \n",
      " conv4_block4_out (Activation)  (None, 14, 14, 1024  0           ['conv4_block4_add[0][0]']       \n",
      "                                )                                                                 \n",
      "                                                                                                  \n",
      " conv4_block5_1_conv (Conv2D)   (None, 14, 14, 256)  262400      ['conv4_block4_out[0][0]']       \n",
      "                                                                                                  \n",
      " conv4_block5_1_bn (BatchNormal  (None, 14, 14, 256)  1024       ['conv4_block5_1_conv[0][0]']    \n",
      " ization)                                                                                         \n",
      "                                                                                                  \n",
      " conv4_block5_1_relu (Activatio  (None, 14, 14, 256)  0          ['conv4_block5_1_bn[0][0]']      \n",
      " n)                                                                                               \n",
      "                                                                                                  \n",
      " conv4_block5_2_conv (Conv2D)   (None, 14, 14, 256)  590080      ['conv4_block5_1_relu[0][0]']    \n",
      "                                                                                                  \n",
      " conv4_block5_2_bn (BatchNormal  (None, 14, 14, 256)  1024       ['conv4_block5_2_conv[0][0]']    \n",
      " ization)                                                                                         \n",
      "                                                                                                  \n",
      " conv4_block5_2_relu (Activatio  (None, 14, 14, 256)  0          ['conv4_block5_2_bn[0][0]']      \n",
      " n)                                                                                               \n",
      "                                                                                                  \n",
      " conv4_block5_3_conv (Conv2D)   (None, 14, 14, 1024  263168      ['conv4_block5_2_relu[0][0]']    \n",
      "                                )                                                                 \n",
      "                                                                                                  \n",
      " conv4_block5_3_bn (BatchNormal  (None, 14, 14, 1024  4096       ['conv4_block5_3_conv[0][0]']    \n",
      " ization)                       )                                                                 \n",
      "                                                                                                  \n",
      " conv4_block5_add (Add)         (None, 14, 14, 1024  0           ['conv4_block4_out[0][0]',       \n",
      "                                )                                 'conv4_block5_3_bn[0][0]']      \n",
      "                                                                                                  \n",
      " conv4_block5_out (Activation)  (None, 14, 14, 1024  0           ['conv4_block5_add[0][0]']       \n",
      "                                )                                                                 \n",
      "                                                                                                  \n",
      " conv4_block6_1_conv (Conv2D)   (None, 14, 14, 256)  262400      ['conv4_block5_out[0][0]']       \n",
      "                                                                                                  \n",
      " conv4_block6_1_bn (BatchNormal  (None, 14, 14, 256)  1024       ['conv4_block6_1_conv[0][0]']    \n",
      " ization)                                                                                         \n",
      "                                                                                                  \n",
      " conv4_block6_1_relu (Activatio  (None, 14, 14, 256)  0          ['conv4_block6_1_bn[0][0]']      \n",
      " n)                                                                                               \n",
      "                                                                                                  \n",
      " conv4_block6_2_conv (Conv2D)   (None, 14, 14, 256)  590080      ['conv4_block6_1_relu[0][0]']    \n",
      "                                                                                                  \n",
      " conv4_block6_2_bn (BatchNormal  (None, 14, 14, 256)  1024       ['conv4_block6_2_conv[0][0]']    \n",
      " ization)                                                                                         \n",
      "                                                                                                  \n",
      " conv4_block6_2_relu (Activatio  (None, 14, 14, 256)  0          ['conv4_block6_2_bn[0][0]']      \n",
      " n)                                                                                               \n",
      "                                                                                                  \n",
      " conv4_block6_3_conv (Conv2D)   (None, 14, 14, 1024  263168      ['conv4_block6_2_relu[0][0]']    \n",
      "                                )                                                                 \n",
      "                                                                                                  \n",
      " conv4_block6_3_bn (BatchNormal  (None, 14, 14, 1024  4096       ['conv4_block6_3_conv[0][0]']    \n",
      " ization)                       )                                                                 \n",
      "                                                                                                  \n",
      " conv4_block6_add (Add)         (None, 14, 14, 1024  0           ['conv4_block5_out[0][0]',       \n",
      "                                )                                 'conv4_block6_3_bn[0][0]']      \n",
      "                                                                                                  \n",
      " conv4_block6_out (Activation)  (None, 14, 14, 1024  0           ['conv4_block6_add[0][0]']       \n",
      "                                )                                                                 \n",
      "                                                                                                  \n",
      " conv5_block1_1_conv (Conv2D)   (None, 7, 7, 512)    524800      ['conv4_block6_out[0][0]']       \n",
      "                                                                                                  \n",
      " conv5_block1_1_bn (BatchNormal  (None, 7, 7, 512)   2048        ['conv5_block1_1_conv[0][0]']    \n",
      " ization)                                                                                         \n",
      "                                                                                                  \n",
      " conv5_block1_1_relu (Activatio  (None, 7, 7, 512)   0           ['conv5_block1_1_bn[0][0]']      \n",
      " n)                                                                                               \n",
      "                                                                                                  \n",
      " conv5_block1_2_conv (Conv2D)   (None, 7, 7, 512)    2359808     ['conv5_block1_1_relu[0][0]']    \n",
      "                                                                                                  \n",
      " conv5_block1_2_bn (BatchNormal  (None, 7, 7, 512)   2048        ['conv5_block1_2_conv[0][0]']    \n",
      " ization)                                                                                         \n",
      "                                                                                                  \n",
      " conv5_block1_2_relu (Activatio  (None, 7, 7, 512)   0           ['conv5_block1_2_bn[0][0]']      \n",
      " n)                                                                                               \n",
      "                                                                                                  \n",
      " conv5_block1_0_conv (Conv2D)   (None, 7, 7, 2048)   2099200     ['conv4_block6_out[0][0]']       \n",
      "                                                                                                  \n",
      " conv5_block1_3_conv (Conv2D)   (None, 7, 7, 2048)   1050624     ['conv5_block1_2_relu[0][0]']    \n",
      "                                                                                                  \n",
      " conv5_block1_0_bn (BatchNormal  (None, 7, 7, 2048)  8192        ['conv5_block1_0_conv[0][0]']    \n",
      " ization)                                                                                         \n",
      "                                                                                                  \n",
      " conv5_block1_3_bn (BatchNormal  (None, 7, 7, 2048)  8192        ['conv5_block1_3_conv[0][0]']    \n",
      " ization)                                                                                         \n",
      "                                                                                                  \n",
      " conv5_block1_add (Add)         (None, 7, 7, 2048)   0           ['conv5_block1_0_bn[0][0]',      \n",
      "                                                                  'conv5_block1_3_bn[0][0]']      \n",
      "                                                                                                  \n",
      " conv5_block1_out (Activation)  (None, 7, 7, 2048)   0           ['conv5_block1_add[0][0]']       \n",
      "                                                                                                  \n",
      " conv5_block2_1_conv (Conv2D)   (None, 7, 7, 512)    1049088     ['conv5_block1_out[0][0]']       \n",
      "                                                                                                  \n",
      " conv5_block2_1_bn (BatchNormal  (None, 7, 7, 512)   2048        ['conv5_block2_1_conv[0][0]']    \n",
      " ization)                                                                                         \n",
      "                                                                                                  \n",
      " conv5_block2_1_relu (Activatio  (None, 7, 7, 512)   0           ['conv5_block2_1_bn[0][0]']      \n",
      " n)                                                                                               \n",
      "                                                                                                  \n",
      " conv5_block2_2_conv (Conv2D)   (None, 7, 7, 512)    2359808     ['conv5_block2_1_relu[0][0]']    \n",
      "                                                                                                  \n",
      " conv5_block2_2_bn (BatchNormal  (None, 7, 7, 512)   2048        ['conv5_block2_2_conv[0][0]']    \n",
      " ization)                                                                                         \n",
      "                                                                                                  \n",
      " conv5_block2_2_relu (Activatio  (None, 7, 7, 512)   0           ['conv5_block2_2_bn[0][0]']      \n",
      " n)                                                                                               \n",
      "                                                                                                  \n",
      " conv5_block2_3_conv (Conv2D)   (None, 7, 7, 2048)   1050624     ['conv5_block2_2_relu[0][0]']    \n",
      "                                                                                                  \n",
      " conv5_block2_3_bn (BatchNormal  (None, 7, 7, 2048)  8192        ['conv5_block2_3_conv[0][0]']    \n",
      " ization)                                                                                         \n",
      "                                                                                                  \n",
      " conv5_block2_add (Add)         (None, 7, 7, 2048)   0           ['conv5_block1_out[0][0]',       \n",
      "                                                                  'conv5_block2_3_bn[0][0]']      \n",
      "                                                                                                  \n",
      " conv5_block2_out (Activation)  (None, 7, 7, 2048)   0           ['conv5_block2_add[0][0]']       \n",
      "                                                                                                  \n",
      " conv5_block3_1_conv (Conv2D)   (None, 7, 7, 512)    1049088     ['conv5_block2_out[0][0]']       \n",
      "                                                                                                  \n",
      " conv5_block3_1_bn (BatchNormal  (None, 7, 7, 512)   2048        ['conv5_block3_1_conv[0][0]']    \n",
      " ization)                                                                                         \n",
      "                                                                                                  \n",
      " conv5_block3_1_relu (Activatio  (None, 7, 7, 512)   0           ['conv5_block3_1_bn[0][0]']      \n",
      " n)                                                                                               \n",
      "                                                                                                  \n",
      " conv5_block3_2_conv (Conv2D)   (None, 7, 7, 512)    2359808     ['conv5_block3_1_relu[0][0]']    \n",
      "                                                                                                  \n",
      " conv5_block3_2_bn (BatchNormal  (None, 7, 7, 512)   2048        ['conv5_block3_2_conv[0][0]']    \n",
      " ization)                                                                                         \n",
      "                                                                                                  \n",
      " conv5_block3_2_relu (Activatio  (None, 7, 7, 512)   0           ['conv5_block3_2_bn[0][0]']      \n",
      " n)                                                                                               \n",
      "                                                                                                  \n",
      " conv5_block3_3_conv (Conv2D)   (None, 7, 7, 2048)   1050624     ['conv5_block3_2_relu[0][0]']    \n",
      "                                                                                                  \n",
      " conv5_block3_3_bn (BatchNormal  (None, 7, 7, 2048)  8192        ['conv5_block3_3_conv[0][0]']    \n",
      " ization)                                                                                         \n",
      "                                                                                                  \n",
      " conv5_block3_add (Add)         (None, 7, 7, 2048)   0           ['conv5_block2_out[0][0]',       \n",
      "                                                                  'conv5_block3_3_bn[0][0]']      \n",
      "                                                                                                  \n",
      " conv5_block3_out (Activation)  (None, 7, 7, 2048)   0           ['conv5_block3_add[0][0]']       \n",
      "                                                                                                  \n",
      "==================================================================================================\n",
      "Total params: 23,587,712\n",
      "Trainable params: 23,534,592\n",
      "Non-trainable params: 53,120\n",
      "__________________________________________________________________________________________________\n"
     ]
    }
   ],
   "source": [
    "#This cell is untested\n",
    "in_lay = Input(shape=(NROW, NCOL, NCH))\n",
    "model_resnet = ResNet50(include_top=False, \n",
    "                        weights=\"imagenet\", \n",
    "                        input_shape=(NROW, NCOL, NCH), \n",
    "                        classes=NCLASS)\n",
    "model_resnet.summary()"
   ]
  },
  {
   "cell_type": "code",
   "execution_count": 30,
   "metadata": {
    "executionInfo": {
     "elapsed": 1612,
     "status": "ok",
     "timestamp": 1659087115332,
     "user": {
      "displayName": "Sreejith S",
      "userId": "00535157397244177597"
     },
     "user_tz": -330
    },
    "id": "4ekn4q5fEy-H"
   },
   "outputs": [],
   "source": [
    "\n",
    "#model_resnet.summary()\n",
    "\n",
    "# Train last block of resnet model\n",
    "model_resnet.trainable = True\n",
    "for layer in model_resnet.layers[:-10]:\n",
    "  layer.trainable = False\n",
    "\n",
    "\n",
    "# x = model_resnet.get_layer('conv5_block3_out').output\n",
    "x = model_resnet(in_lay)\n",
    "x = Flatten()(x)\n",
    "x = Dense(4096, activation='relu')(x)\n",
    "x = Dropout(0.5)(x)\n",
    "x = Dense(4096, activation='relu')(x) \n",
    "x = Dropout(0.5)(x)\n",
    "x = Dense(64, activation='relu')(x)\n",
    "out_layer = Dense(NCLASS, activation='softmax')(x) \n",
    "model = Model(inputs=[in_lay], outputs=out_layer, name = 'Resnet-Augmented')"
   ]
  },
  {
   "cell_type": "code",
   "execution_count": 31,
   "metadata": {
    "colab": {
     "base_uri": "https://localhost:8080/"
    },
    "executionInfo": {
     "elapsed": 17,
     "status": "ok",
     "timestamp": 1659087115333,
     "user": {
      "displayName": "Sreejith S",
      "userId": "00535157397244177597"
     },
     "user_tz": -330
    },
    "id": "Cbu1K5Eqq3QK",
    "outputId": "d826e3ce-6185-48a6-f1cf-6712145f8d88"
   },
   "outputs": [
    {
     "name": "stdout",
     "output_type": "stream",
     "text": [
      "Model: \"Resnet-Augmented\"\n",
      "_________________________________________________________________\n",
      " Layer (type)                Output Shape              Param #   \n",
      "=================================================================\n",
      " input_1 (InputLayer)        [(None, 224, 224, 3)]     0         \n",
      "                                                                 \n",
      " resnet50 (Functional)       (None, 7, 7, 2048)        23587712  \n",
      "                                                                 \n",
      " flatten (Flatten)           (None, 100352)            0         \n",
      "                                                                 \n",
      " dense (Dense)               (None, 4096)              411045888 \n",
      "                                                                 \n",
      " dropout (Dropout)           (None, 4096)              0         \n",
      "                                                                 \n",
      " dense_1 (Dense)             (None, 4096)              16781312  \n",
      "                                                                 \n",
      " dropout_1 (Dropout)         (None, 4096)              0         \n",
      "                                                                 \n",
      " dense_2 (Dense)             (None, 64)                262208    \n",
      "                                                                 \n",
      " dense_3 (Dense)             (None, 6)                 390       \n",
      "                                                                 \n",
      "=================================================================\n",
      "Total params: 451,677,510\n",
      "Trainable params: 432,555,462\n",
      "Non-trainable params: 19,122,048\n",
      "_________________________________________________________________\n"
     ]
    }
   ],
   "source": [
    "model.summary()"
   ]
  },
  {
   "cell_type": "code",
   "execution_count": 32,
   "metadata": {
    "executionInfo": {
     "elapsed": 7,
     "status": "ok",
     "timestamp": 1659087115334,
     "user": {
      "displayName": "Sreejith S",
      "userId": "00535157397244177597"
     },
     "user_tz": -330
    },
    "id": "BSXdNL4Pq3QL"
   },
   "outputs": [],
   "source": [
    "sgd = SGD(learning_rate = LEARN_RATE, momentum = 0.9, nesterov = False)\n",
    "adam = Adam(learning_rate = LEARN_RATE, beta_1 = 0.9, beta_2 = 0.999, epsilon = None, decay = 0.0, amsgrad = False)\n",
    "\n",
    "model.compile(optimizer = sgd, loss = 'categorical_crossentropy', metrics = ['accuracy'])"
   ]
  },
  {
   "cell_type": "code",
   "execution_count": 33,
   "metadata": {
    "colab": {
     "base_uri": "https://localhost:8080/"
    },
    "executionInfo": {
     "elapsed": 12746926,
     "status": "ok",
     "timestamp": 1659099862254,
     "user": {
      "displayName": "Sreejith S",
      "userId": "00535157397244177597"
     },
     "user_tz": -330
    },
    "id": "c4KsiSbdq3QL",
    "outputId": "f6a1d3aa-c8c5-4bcf-c457-fd903968705e"
   },
   "outputs": [
    {
     "name": "stdout",
     "output_type": "stream",
     "text": [
      "Epoch 1/10\n",
      "565/565 [==============================] - ETA: 0s - loss: 0.2580 - accuracy: 0.9082\n",
      "Epoch 1: val_loss improved from inf to 0.36818, saving model to best_model.h5\n",
      "565/565 [==============================] - 1340s 2s/step - loss: 0.2580 - accuracy: 0.9082 - val_loss: 0.3682 - val_accuracy: 0.8797 - lr: 0.0010\n",
      "Epoch 2/10\n",
      "565/565 [==============================] - ETA: 0s - loss: 0.0369 - accuracy: 0.9875\n",
      "Epoch 2: val_loss improved from 0.36818 to 0.25385, saving model to best_model.h5\n",
      "565/565 [==============================] - 1277s 2s/step - loss: 0.0369 - accuracy: 0.9875 - val_loss: 0.2538 - val_accuracy: 0.9227 - lr: 0.0010\n",
      "Epoch 3/10\n",
      "565/565 [==============================] - ETA: 0s - loss: 0.0208 - accuracy: 0.9930\n",
      "Epoch 3: val_loss did not improve from 0.25385\n",
      "565/565 [==============================] - 1306s 2s/step - loss: 0.0208 - accuracy: 0.9930 - val_loss: 0.2625 - val_accuracy: 0.9199 - lr: 0.0010\n",
      "Epoch 4/10\n",
      "565/565 [==============================] - ETA: 0s - loss: 0.0132 - accuracy: 0.9955\n",
      "Epoch 4: val_loss did not improve from 0.25385\n",
      "565/565 [==============================] - 1269s 2s/step - loss: 0.0132 - accuracy: 0.9955 - val_loss: 0.2802 - val_accuracy: 0.9249 - lr: 0.0010\n",
      "Epoch 5/10\n",
      "565/565 [==============================] - ETA: 0s - loss: 0.0101 - accuracy: 0.9966\n",
      "Epoch 5: val_loss improved from 0.25385 to 0.22609, saving model to best_model.h5\n",
      "565/565 [==============================] - 1299s 2s/step - loss: 0.0101 - accuracy: 0.9966 - val_loss: 0.2261 - val_accuracy: 0.9360 - lr: 0.0010\n",
      "Epoch 6/10\n",
      "565/565 [==============================] - ETA: 0s - loss: 0.0084 - accuracy: 0.9972\n",
      "Epoch 6: val_loss improved from 0.22609 to 0.22179, saving model to best_model.h5\n",
      "565/565 [==============================] - 1268s 2s/step - loss: 0.0084 - accuracy: 0.9972 - val_loss: 0.2218 - val_accuracy: 0.9366 - lr: 0.0010\n",
      "Epoch 7/10\n",
      "565/565 [==============================] - ETA: 0s - loss: 0.0057 - accuracy: 0.9980\n",
      "Epoch 7: val_loss did not improve from 0.22179\n",
      "565/565 [==============================] - 1238s 2s/step - loss: 0.0057 - accuracy: 0.9980 - val_loss: 0.2775 - val_accuracy: 0.9219 - lr: 0.0010\n",
      "Epoch 8/10\n",
      "565/565 [==============================] - ETA: 0s - loss: 0.0058 - accuracy: 0.9980\n",
      "Epoch 8: val_loss did not improve from 0.22179\n",
      "565/565 [==============================] - 1197s 2s/step - loss: 0.0058 - accuracy: 0.9980 - val_loss: 0.2749 - val_accuracy: 0.9302 - lr: 0.0010\n",
      "Epoch 9/10\n",
      "565/565 [==============================] - ETA: 0s - loss: 0.0044 - accuracy: 0.9985\n",
      "Epoch 9: val_loss did not improve from 0.22179\n",
      "565/565 [==============================] - 1194s 2s/step - loss: 0.0044 - accuracy: 0.9985 - val_loss: 0.2583 - val_accuracy: 0.9342 - lr: 0.0010\n",
      "Epoch 10/10\n",
      "565/565 [==============================] - ETA: 0s - loss: 0.0040 - accuracy: 0.9987\n",
      "Epoch 10: val_loss did not improve from 0.22179\n",
      "565/565 [==============================] - 1199s 2s/step - loss: 0.0040 - accuracy: 0.9987 - val_loss: 0.2422 - val_accuracy: 0.9374 - lr: 1.0000e-05\n"
     ]
    }
   ],
   "source": [
    "# Channel-Spatial Attention Training History\n",
    "history = model.fit(\n",
    "    train_gen,\n",
    "    epochs = EPOCHS,\n",
    "    steps_per_epoch = train_gen.samples//BATCH_SIZE,\n",
    "    validation_data = val_gen,\n",
    "    validation_steps=val_gen.samples//BATCH_SIZE,\n",
    "    callbacks = callback_list,\n",
    "    verbose = 1)"
   ]
  },
  {
   "cell_type": "code",
   "execution_count": 34,
   "metadata": {
    "colab": {
     "base_uri": "https://localhost:8080/",
     "height": 282
    },
    "executionInfo": {
     "elapsed": 679,
     "status": "ok",
     "timestamp": 1659099862907,
     "user": {
      "displayName": "Sreejith S",
      "userId": "00535157397244177597"
     },
     "user_tz": -330
    },
    "id": "yVwL4oDTq3QL",
    "outputId": "4bcf8691-9080-48be-d620-17736454c872"
   },
   "outputs": [
    {
     "data": {
      "text/plain": [
       "[<matplotlib.lines.Line2D at 0x7fa9d4cc0390>]"
      ]
     },
     "execution_count": 34,
     "metadata": {},
     "output_type": "execute_result"
    },
    {
     "data": {
      "image/png": "[encoded data removed]",
      "text/plain": [
       "<Figure size 432x288 with 2 Axes>"
      ]
     },
     "metadata": {
      "needs_background": "light"
     },
     "output_type": "display_data"
    }
   ],
   "source": [
    "f, ax = plt.subplots(2, 1) \n",
    "#Assign the first subplot to graph training loss and validation loss\n",
    "ax[0].plot(model.history.history['loss'], color = 'b', label = 'Training Loss')\n",
    "ax[0].plot(model.history.history['val_loss'], color = 'r', label = 'Validation Loss')\n",
    "\n",
    "#Next lets plot the training accuracy and validation accuracy\n",
    "ax[1].plot(model.history.history['accuracy'], color = 'b', label = 'Training  Accuracy')\n",
    "ax[1].plot(model.history.history['val_accuracy'], color = 'r', label = 'Validation Accuracy')"
   ]
  },
  {
   "cell_type": "code",
   "execution_count": 35,
   "metadata": {
    "executionInfo": {
     "elapsed": 27723,
     "status": "ok",
     "timestamp": 1659099890624,
     "user": {
      "displayName": "Sreejith S",
      "userId": "00535157397244177597"
     },
     "user_tz": -330
    },
    "id": "6rM4RZA9sD6h"
   },
   "outputs": [],
   "source": [
    "!mv '/content/best_model.h5' '/content/drive/MyDrive/Handwash-Bot-Thesis/Code/Tencon/Models/ResNet50-plain[Jul26_2022][INDICON].h5'"
   ]
  },
  {
   "cell_type": "markdown",
   "metadata": {
    "id": "Ia7O7vvSghXa"
   },
   "source": [
    "### Evaluate Code (Note: Done on old attention)"
   ]
  },
  {
   "cell_type": "code",
   "execution_count": 36,
   "metadata": {
    "executionInfo": {
     "elapsed": 7,
     "status": "ok",
     "timestamp": 1659099890625,
     "user": {
      "displayName": "Sreejith S",
      "userId": "00535157397244177597"
     },
     "user_tz": -330
    },
    "id": "AUegfZCkhNuG"
   },
   "outputs": [],
   "source": [
    "from tensorflow.keras.models import load_model"
   ]
  },
  {
   "cell_type": "code",
   "execution_count": 37,
   "metadata": {
    "executionInfo": {
     "elapsed": 38797,
     "status": "ok",
     "timestamp": 1659099929417,
     "user": {
      "displayName": "Sreejith S",
      "userId": "00535157397244177597"
     },
     "user_tz": -330
    },
    "id": "LT1sRgejgqva"
   },
   "outputs": [],
   "source": [
    "#load model (optional)\n",
    "att_model = load_model('/content/drive/MyDrive/Handwash-Bot-Thesis/Code/Tencon/Models/ResNet50-plain[Jul26_2022][INDICON].h5')\n"
   ]
  },
  {
   "cell_type": "code",
   "execution_count": 38,
   "metadata": {
    "executionInfo": {
     "elapsed": 26,
     "status": "ok",
     "timestamp": 1659099929419,
     "user": {
      "displayName": "Sreejith S",
      "userId": "00535157397244177597"
     },
     "user_tz": -330
    },
    "id": "kQNTZ333k3vL"
   },
   "outputs": [],
   "source": [
    "model=att_model"
   ]
  },
  {
   "cell_type": "code",
   "execution_count": 41,
   "metadata": {
    "colab": {
     "base_uri": "https://localhost:8080/"
    },
    "executionInfo": {
     "elapsed": 2220,
     "status": "ok",
     "timestamp": 1659100977109,
     "user": {
      "displayName": "Sreejith S",
      "userId": "00535157397244177597"
     },
     "user_tz": -330
    },
    "id": "8KbpD7j-0tid",
    "outputId": "58ff0843-2977-43a8-d625-a3baab6853b5"
   },
   "outputs": [
    {
     "name": "stdout",
     "output_type": "stream",
     "text": [
      "Found 72357 images belonging to 6 classes.\n",
      "Found 15208 images belonging to 6 classes.\n",
      "Found 11980 images belonging to 6 classes.\n"
     ]
    }
   ],
   "source": [
    "train_gen = image_datagen.flow_from_directory(batch_size=BATCH_SIZE,\n",
    "                                             directory=train_dir,\n",
    "                                             shuffle=False,\n",
    "                                             target_size=(NROW, NCOL),\n",
    "                                             class_mode=\"categorical\",\n",
    "                                             classes=CLASS_NAMES,\n",
    "                                             subset='training')\n",
    "\n",
    "val_gen = image_datagen.flow_from_directory(batch_size=BATCH_SIZE,\n",
    "                                             directory=train_dir,\n",
    "                                             shuffle=False,\n",
    "                                             target_size=(NROW, NCOL),\n",
    "                                             class_mode=\"categorical\",\n",
    "                                             classes=CLASS_NAMES,\n",
    "                                             subset='validation')\n",
    "\n",
    "test_gen = image_datagen.flow_from_directory(batch_size=BATCH_SIZE,\n",
    "                                              directory=test_dir,\n",
    "                                              shuffle=False,\n",
    "                                              target_size=(NROW, NCOL),\n",
    "                                              class_mode=\"categorical\",\n",
    "                                              classes=CLASS_NAMES,\n",
    "                                              seed=RANDOM_SEED)"
   ]
  },
  {
   "cell_type": "code",
   "execution_count": 42,
   "metadata": {
    "colab": {
     "base_uri": "https://localhost:8080/",
     "height": 1000
    },
    "executionInfo": {
     "elapsed": 1344289,
     "status": "ok",
     "timestamp": 1659102328433,
     "user": {
      "displayName": "Sreejith S",
      "userId": "00535157397244177597"
     },
     "user_tz": -330
    },
    "id": "QZNNOxf8lAgA",
    "outputId": "a32db999-0b8c-42e8-be3d-81424fa8f37d"
   },
   "outputs": [
    {
     "data": {
      "image/png": "[encoded data removed]",
      "text/plain": [
       "<Figure size 432x432 with 2 Axes>"
      ]
     },
     "metadata": {
      "needs_background": "light"
     },
     "output_type": "display_data"
    },
    {
     "data": {
      "image/png": "[encoded data removed]",
      "text/plain": [
       "<Figure size 432x432 with 2 Axes>"
      ]
     },
     "metadata": {
      "needs_background": "light"
     },
     "output_type": "display_data"
    },
    {
     "data": {
      "image/png": "[encoded data removed]",
      "text/plain": [
       "<Figure size 432x432 with 2 Axes>"
      ]
     },
     "metadata": {
      "needs_background": "light"
     },
     "output_type": "display_data"
    }
   ],
   "source": [
    "plot_cf_matrix(att_model, train_gen, plot_title=\"Train confustion matrix\", plot_size=(6,6))\n",
    "plot_cf_matrix(att_model, val_gen, plot_title=\"Validation confustion matrix\", plot_size=(6,6))\n",
    "plot_cf_matrix(att_model, test_gen, plot_title=\"Test confustion matrix\", plot_size=(6,6))"
   ]
  },
  {
   "cell_type": "markdown",
   "metadata": {
    "id": "eFchV8-9KFMD"
   },
   "source": [
    "#Custom test data"
   ]
  },
  {
   "cell_type": "code",
   "execution_count": 43,
   "metadata": {
    "executionInfo": {
     "elapsed": 973,
     "status": "ok",
     "timestamp": 1659102348817,
     "user": {
      "displayName": "Sreejith S",
      "userId": "00535157397244177597"
     },
     "user_tz": -330
    },
    "id": "vx9B4dqHLDIl"
   },
   "outputs": [],
   "source": [
    "!mkdir -p '/content/HandWashDataset/custom'"
   ]
  },
  {
   "cell_type": "code",
   "execution_count": 44,
   "metadata": {
    "executionInfo": {
     "elapsed": 421,
     "status": "ok",
     "timestamp": 1659102353671,
     "user": {
      "displayName": "Sreejith S",
      "userId": "00535157397244177597"
     },
     "user_tz": -330
    },
    "id": "MsahvL9hgfqI"
   },
   "outputs": [],
   "source": [
    "custom_test_1 = '/content/drive/MyDrive/Handwash-Bot-Thesis/Datasets/Kaggle/custom'\n",
    "custom_test_2 = '/content/drive/MyDrive/Handwash-Bot-Thesis/Datasets/Kaggle/custom_test'\n",
    "custom_test_3 = '/content/drive/MyDrive/Handwash-Bot-Thesis/Datasets/Kaggle/custom_test2' #TODO: rename test dir in drive later"
   ]
  },
  {
   "cell_type": "code",
   "execution_count": 45,
   "metadata": {
    "colab": {
     "base_uri": "https://localhost:8080/"
    },
    "executionInfo": {
     "elapsed": 15434,
     "status": "ok",
     "timestamp": 1659102370368,
     "user": {
      "displayName": "Sreejith S",
      "userId": "00535157397244177597"
     },
     "user_tz": -330
    },
    "id": "RAsKKxv9Puvk",
    "outputId": "08424046-ddec-4fc3-a676-2c0cdb236b27"
   },
   "outputs": [
    {
     "name": "stdout",
     "output_type": "stream",
     "text": [
      "Found 955 images belonging to 6 classes.\n",
      "Found 1093 images belonging to 6 classes.\n",
      "Found 1298 images belonging to 6 classes.\n"
     ]
    }
   ],
   "source": [
    "custom_test_gen_1 = test_image_datagen.flow_from_directory(batch_size=BATCH_SIZE,\n",
    "                                             directory=custom_test_1,\n",
    "                                             shuffle=False,\n",
    "                                             target_size=(NROW, NCOL),\n",
    "                                             class_mode=\"categorical\",\n",
    "                                             classes=CLASS_NAMES,\n",
    "                                             seed=RANDOM_SEED)\n",
    "custom_test_gen_2 = test_image_datagen.flow_from_directory(batch_size=BATCH_SIZE,\n",
    "                                             directory=custom_test_2,\n",
    "                                             shuffle=False,\n",
    "                                             target_size=(NROW, NCOL),\n",
    "                                             class_mode=\"categorical\",\n",
    "                                             classes=CLASS_NAMES,\n",
    "                                             seed=RANDOM_SEED)\n",
    "custom_test_gen_3 = test_image_datagen.flow_from_directory(batch_size=BATCH_SIZE,\n",
    "                                             directory=custom_test_3,\n",
    "                                             shuffle=False,\n",
    "                                             target_size=(NROW, NCOL),\n",
    "                                             class_mode=\"categorical\",\n",
    "                                             classes=CLASS_NAMES,\n",
    "                                             seed=RANDOM_SEED)"
   ]
  },
  {
   "cell_type": "code",
   "execution_count": 46,
   "metadata": {
    "colab": {
     "base_uri": "https://localhost:8080/",
     "height": 1000
    },
    "executionInfo": {
     "elapsed": 442660,
     "status": "ok",
     "timestamp": 1659103220441,
     "user": {
      "displayName": "Sreejith S",
      "userId": "00535157397244177597"
     },
     "user_tz": -330
    },
    "id": "JXMMkfmulJeu",
    "outputId": "fb694e44-1cf4-4e12-b1d1-5e019f3c6d44"
   },
   "outputs": [
    {
     "data": {
      "image/png": "[encoded data removed]",
      "text/plain": [
       "<Figure size 432x432 with 2 Axes>"
      ]
     },
     "metadata": {},
     "output_type": "display_data"
    },
    {
     "data": {
      "image/png": "[encoded data removed]",
      "text/plain": [
       "<Figure size 432x432 with 2 Axes>"
      ]
     },
     "metadata": {
      "needs_background": "light"
     },
     "output_type": "display_data"
    },
    {
     "data": {
      "image/png": "[encoded data removed]",
      "text/plain": [
       "<Figure size 432x432 with 2 Axes>"
      ]
     },
     "metadata": {
      "needs_background": "light"
     },
     "output_type": "display_data"
    }
   ],
   "source": [
    "plot_cf_matrix(att_model, custom_test_gen_1, plot_title=\"Custom Test confustion matrix\", plot_size=(6,6))\n",
    "plot_cf_matrix(att_model, custom_test_gen_2, plot_title=\"Custom Test confustion matrix\", plot_size=(6,6))\n",
    "plot_cf_matrix(att_model, custom_test_gen_3, plot_title=\"Custom Test confustion matrix\", plot_size=(6,6))"
   ]
  },
  {
   "cell_type": "markdown",
   "metadata": {
    "id": "Sv6DTBWYq3QL"
   },
   "source": [
    "**Attention Visualization**"
   ]
  },
  {
   "cell_type": "markdown",
   "metadata": {
    "id": "WmnrXVA5RJcP",
    "tags": []
   },
   "source": [
    "### Saliency Map"
   ]
  },
  {
   "cell_type": "code",
   "execution_count": 47,
   "metadata": {
    "executionInfo": {
     "elapsed": 2,
     "status": "ok",
     "timestamp": 1659103220442,
     "user": {
      "displayName": "Sreejith S",
      "userId": "00535157397244177597"
     },
     "user_tz": -330
    },
    "id": "4Y3VnTAoRFMe"
   },
   "outputs": [],
   "source": [
    "#@title Saliency Map Functions\n",
    "\n",
    "\n",
    "\n",
    "subplot_args = { 'nrows': 1, 'ncols': NCLASS, 'figsize': (14, 3),\n",
    "                 'subplot_kw': {'xticks': [], 'yticks': []} }\n",
    "\n",
    "\n",
    "\n",
    "# The `output` variable refer to the output of the model,\n",
    "# so, in this case, `output` shape is `(3, 7)` i.e., (samples, classes).\n",
    "def loss(output):\n",
    "    op =  tuple([output[i][i] for i in range(NCLASS)])\n",
    "    return op\n",
    "\n",
    "def model_modifier(m):\n",
    "    m.layers[-1].activation = tf.keras.activations.linear\n",
    "    return m\n",
    "\n",
    "\n",
    "def saliency_plot(X, fname=\"saliency\"):\n",
    "\n",
    "    # Create Saliency object.\n",
    "    saliency = Saliency(model,\n",
    "                        model_modifier=model_modifier,\n",
    "                        clone=False)\n",
    "\n",
    "    # Generate saliency map with smoothing that reduce noise by adding noise\n",
    "    saliency_map = saliency(loss,\n",
    "                            X,\n",
    "                            smooth_samples=20, # The number of calculating gradients iterations.\n",
    "                            smooth_noise=0.20) # noise spread level.\n",
    "    # saliency_map = normalize(saliency_map)\n",
    "    saliency_map = standardize(saliency_map)\n",
    "    visualize(saliency_map, CLASS_NAMES, plot_params=False, cmap='jet',\n",
    "              savefig=True, fname=fname)\n",
    "    return saliency_map\n",
    "\n"
   ]
  },
  {
   "cell_type": "code",
   "execution_count": 48,
   "metadata": {
    "colab": {
     "base_uri": "https://localhost:8080/",
     "height": 1000,
     "output_embedded_package_id": "1MsB4-NgNP2akekYJ_PE_ZZ9AAOpPYnV7"
    },
    "executionInfo": {
     "elapsed": 56028,
     "status": "ok",
     "timestamp": 1659103276468,
     "user": {
      "displayName": "Sreejith S",
      "userId": "00535157397244177597"
     },
     "user_tz": -330
    },
    "id": "u4ssD9MeRKiL",
    "outputId": "6de664e0-9c96-404e-bd70-d9190ec30b3d"
   },
   "outputs": [
    {
     "data": {
      "text/plain": [
       "Output hidden; open in https://colab.research.google.com to view."
      ]
     },
     "metadata": {},
     "output_type": "display_data"
    }
   ],
   "source": [
    "# Loading Test data\n",
    "for r in range(10):\n",
    "    images = load_image_per_class('/content/test/')\n",
    "    X = preprocess_input(images)\n",
    "    X_fix_ch = X[:,:,:,::-1]   # interchange channels for plotting\n",
    "    visualize(X_fix_ch, CLASS_NAMES, plot_params=False, suptitle=\"Salency on test data\", savefig=True, fname=f\"saliency_test_input_{r}\")\n",
    "    saliency_plot(X, fname=f\"saliency_test_output_{r}\")"
   ]
  },
  {
   "cell_type": "code",
   "execution_count": null,
   "metadata": {
    "id": "MTcCKZehRUB8"
   },
   "outputs": [],
   "source": [
    "# Loading Train data\n",
    "for r in range(10):\n",
    "    images = load_image_per_class('/content/train/')\n",
    "    X = preprocess_input(images)\n",
    "    X_fix_ch = X[:,:,:,::-1]   # interchange channels for plotting\n",
    "    visualize(X_fix_ch, CLASS_NAMES, plot_params=False, suptitle=\"Salency on test data\", savefig=True, fname=f\"saliency_test_input_{r}\")\n",
    "    saliency_plot(X, fname=f\"saliency_test_output_{r}\")"
   ]
  },
  {
   "cell_type": "code",
   "execution_count": null,
   "metadata": {
    "id": "3HFeTHRX7uNZ"
   },
   "outputs": [],
   "source": [
    "# Loading Train data\n",
    "for r in range(10):\n",
    "    images = load_image_per_class(custom_test_2+'/')\n",
    "    X = preprocess_input(images)\n",
    "    X_fix_ch = X[:,:,:,::-1]   # interchange channels for plotting\n",
    "    visualize(X_fix_ch, CLASS_NAMES, plot_params=False, suptitle=\"Salency on test data\", savefig=True, fname=f\"saliency_test_input_{r}\")\n",
    "    saliency_plot(X, fname=f\"saliency_test_output_{r}\")"
   ]
  },
  {
   "cell_type": "code",
   "execution_count": 50,
   "metadata": {
    "executionInfo": {
     "elapsed": 2,
     "status": "ok",
     "timestamp": 1659103383204,
     "user": {
      "displayName": "Sreejith S",
      "userId": "00535157397244177597"
     },
     "user_tz": -330
    },
    "id": "HmkTgC8oaoKT"
   },
   "outputs": [],
   "source": []
  }
 ],
 "metadata": {
  "accelerator": "GPU",
  "colab": {
   "collapsed_sections": [],
   "name": "ResNet50-plain[Jul26_2022][INDICON].ipynb",
   "provenance": [
    {
     "file_id": "1A0rBr03n3nwclwneXWcOm0kSaTpwb5JK",
     "timestamp": 1638594883358
    },
    {
     "file_id": "11PcbbvqHZ4i6-rwtYMbeZABNJNjhsdwz",
     "timestamp": 1637920185601
    }
   ]
  },
  "kernelspec": {
   "display_name": "Python 3 (ipykernel)",
   "language": "python",
   "name": "python3"
  },
  "language_info": {
   "codemirror_mode": {
    "name": "ipython",
    "version": 3
   },
   "file_extension": ".py",
   "mimetype": "text/x-python",
   "name": "python",
   "nbconvert_exporter": "python",
   "pygments_lexer": "ipython3",
   "version": "3.10.6"
  }
 },
 "nbformat": 4,
 "nbformat_minor": 1
}
